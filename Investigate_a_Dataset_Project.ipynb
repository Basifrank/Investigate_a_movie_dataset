{
 "cells": [
  {
   "cell_type": "markdown",
   "metadata": {},
   "source": [
    "\n",
    "\n",
    "# Project: Investigate a Dataset - [tmdb-movies]\n",
    "\n",
    "## Table of Contents\n",
    "<ul>\n",
    "<li><a href=\"#intro\">Introduction</a></li>\n",
    "<li><a href=\"#wrangling\">Data Wrangling</a></li>\n",
    "<li><a href=\"#eda\">Exploratory Data Analysis</a></li>\n",
    "<li><a href=\"#conclusions\">Conclusions</a></li>\n",
    "</ul>"
   ]
  },
  {
   "cell_type": "markdown",
   "metadata": {},
   "source": [
    "<a id='intro'></a>\n",
    "## Introduction\n",
    "\n",
    "### Dataset Description \n",
    "\n",
    "> **Description**: The data is a collection of details of about 10000 movies extracted from the TMDb database. More details about the data can be seen in this kaggle link where it was originally cleaned. [here](https://www.kaggle.com/datasets/tmdb/tmdb-movie-metadata). \n",
    "Columns in the data includes: popularity, budget, revenue, original_title, cast, homepage, director, tagline, keywords, overview, runtime, genres, 'production_companies, release_date, vote_count, vote_average, release_year. In my analysis, I have assumed that the vote_average represents the average rating of each movie.  \n",
    "\n",
    "\n",
    "### Question(s) for Analysis\n",
    ">****: To analysis this data, I posed the following questions to understand the relationship between the variables and how they affect each other. While this may not be all inclusive, I believe they provide info to relevant stakeholders seeking to understand how movies popularity influence its ratings, revenue, top_10 movies and many others. It also seek to answer some questions regarding movie directors and cast. To do this, the following questions were asked\n",
    "\n",
    "> **1**: Does a high budgeted movie  lead to high revenue?\n",
    "\n",
    "> **2**: Does a movie popularity level affect how much it is rated?\n",
    "\n",
    "> **3**: Does a movie popularity level influence it total revenue?\n",
    "\n",
    "> **4**: What are the top 10 Highest Grossing movie by revenue?\n",
    "\n",
    "> **5**: What kinds of properties are associated with movies that have high revenues?\n",
    "\n",
    "> **6**: Who are the Top_10 Director with the highest revenue? \n",
    "\n",
    "> **7**: Who are the Top_10 Director with the highest popularity? \n",
    "\n",
    "> **8** Which year has the highest Revenue?\n",
    "\n"
   ]
  },
  {
   "cell_type": "code",
   "execution_count": null,
   "metadata": {},
   "outputs": [],
   "source": []
  },
  {
   "cell_type": "code",
   "execution_count": 1,
   "metadata": {},
   "outputs": [],
   "source": [
    "# Use this cell to set up import statements for all of the packages that you\n",
    "#   plan to use.\n",
    "\n",
    "# Remember to include a 'magic word' so that your visualizations are plotted\n",
    "#   inline with the notebook. See this page for more:\n",
    "#   http://ipython.readthedocs.io/en/stable/interactive/magics.html\n",
    "\n",
    "import numpy as np\n",
    "import pandas as pd\n",
    "import matplotlib.pyplot as plt\n",
    "import seaborn as sns\n",
    "%matplotlib inline"
   ]
  },
  {
   "cell_type": "markdown",
   "metadata": {},
   "source": [
    "<a id='wrangling'></a>\n",
    "## Data Wrangling\n",
    "\n"
   ]
  },
  {
   "cell_type": "code",
   "execution_count": 2,
   "metadata": {},
   "outputs": [],
   "source": [
    "# Load your data and print out a few lines. Perform operations to inspect data\n",
    "#   types and look for instances of missing or possibly errant data.\n",
    "\n",
    "dataset = pd.read_csv(\"tmdb-movies.csv\")\n",
    "\n",
    "\n"
   ]
  },
  {
   "cell_type": "code",
   "execution_count": 3,
   "metadata": {},
   "outputs": [],
   "source": [
    "df = dataset.copy()                  #making copies "
   ]
  },
  {
   "cell_type": "code",
   "execution_count": 4,
   "metadata": {},
   "outputs": [
    {
     "data": {
      "text/plain": [
       "Index(['id', 'imdb_id', 'popularity', 'budget', 'revenue', 'original_title',\n",
       "       'cast', 'homepage', 'director', 'tagline', 'keywords', 'overview',\n",
       "       'runtime', 'genres', 'production_companies', 'release_date',\n",
       "       'vote_count', 'vote_average', 'release_year', 'budget_adj',\n",
       "       'revenue_adj'],\n",
       "      dtype='object')"
      ]
     },
     "execution_count": 4,
     "metadata": {},
     "output_type": "execute_result"
    }
   ],
   "source": [
    "#Identifying the columns\n",
    "\n",
    "df.columns "
   ]
  },
  {
   "cell_type": "code",
   "execution_count": 5,
   "metadata": {},
   "outputs": [
    {
     "name": "stdout",
     "output_type": "stream",
     "text": [
      "<class 'pandas.core.frame.DataFrame'>\n",
      "RangeIndex: 10866 entries, 0 to 10865\n",
      "Data columns (total 21 columns):\n",
      " #   Column                Non-Null Count  Dtype  \n",
      "---  ------                --------------  -----  \n",
      " 0   id                    10866 non-null  int64  \n",
      " 1   imdb_id               10856 non-null  object \n",
      " 2   popularity            10866 non-null  float64\n",
      " 3   budget                10866 non-null  int64  \n",
      " 4   revenue               10866 non-null  int64  \n",
      " 5   original_title        10866 non-null  object \n",
      " 6   cast                  10790 non-null  object \n",
      " 7   homepage              2936 non-null   object \n",
      " 8   director              10822 non-null  object \n",
      " 9   tagline               8042 non-null   object \n",
      " 10  keywords              9373 non-null   object \n",
      " 11  overview              10862 non-null  object \n",
      " 12  runtime               10866 non-null  int64  \n",
      " 13  genres                10843 non-null  object \n",
      " 14  production_companies  9836 non-null   object \n",
      " 15  release_date          10866 non-null  object \n",
      " 16  vote_count            10866 non-null  int64  \n",
      " 17  vote_average          10866 non-null  float64\n",
      " 18  release_year          10866 non-null  int64  \n",
      " 19  budget_adj            10866 non-null  float64\n",
      " 20  revenue_adj           10866 non-null  float64\n",
      "dtypes: float64(4), int64(6), object(11)\n",
      "memory usage: 1.7+ MB\n"
     ]
    }
   ],
   "source": [
    "#Finding columns with missing data and understanding columns data types\n",
    "\n",
    "df.info()"
   ]
  },
  {
   "cell_type": "code",
   "execution_count": 6,
   "metadata": {},
   "outputs": [
    {
     "data": {
      "text/html": [
       "<div>\n",
       "<style scoped>\n",
       "    .dataframe tbody tr th:only-of-type {\n",
       "        vertical-align: middle;\n",
       "    }\n",
       "\n",
       "    .dataframe tbody tr th {\n",
       "        vertical-align: top;\n",
       "    }\n",
       "\n",
       "    .dataframe thead th {\n",
       "        text-align: right;\n",
       "    }\n",
       "</style>\n",
       "<table border=\"1\" class=\"dataframe\">\n",
       "  <thead>\n",
       "    <tr style=\"text-align: right;\">\n",
       "      <th></th>\n",
       "      <th>id</th>\n",
       "      <th>imdb_id</th>\n",
       "      <th>popularity</th>\n",
       "      <th>budget</th>\n",
       "      <th>revenue</th>\n",
       "      <th>original_title</th>\n",
       "      <th>cast</th>\n",
       "      <th>homepage</th>\n",
       "      <th>director</th>\n",
       "      <th>tagline</th>\n",
       "      <th>...</th>\n",
       "      <th>overview</th>\n",
       "      <th>runtime</th>\n",
       "      <th>genres</th>\n",
       "      <th>production_companies</th>\n",
       "      <th>release_date</th>\n",
       "      <th>vote_count</th>\n",
       "      <th>vote_average</th>\n",
       "      <th>release_year</th>\n",
       "      <th>budget_adj</th>\n",
       "      <th>revenue_adj</th>\n",
       "    </tr>\n",
       "  </thead>\n",
       "  <tbody>\n",
       "    <tr>\n",
       "      <th>0</th>\n",
       "      <td>135397</td>\n",
       "      <td>tt0369610</td>\n",
       "      <td>32.985763</td>\n",
       "      <td>150000000</td>\n",
       "      <td>1513528810</td>\n",
       "      <td>Jurassic World</td>\n",
       "      <td>Chris Pratt|Bryce Dallas Howard|Irrfan Khan|Vi...</td>\n",
       "      <td>http://www.jurassicworld.com/</td>\n",
       "      <td>Colin Trevorrow</td>\n",
       "      <td>The park is open.</td>\n",
       "      <td>...</td>\n",
       "      <td>Twenty-two years after the events of Jurassic ...</td>\n",
       "      <td>124</td>\n",
       "      <td>Action|Adventure|Science Fiction|Thriller</td>\n",
       "      <td>Universal Studios|Amblin Entertainment|Legenda...</td>\n",
       "      <td>6/9/15</td>\n",
       "      <td>5562</td>\n",
       "      <td>6.5</td>\n",
       "      <td>2015</td>\n",
       "      <td>1.379999e+08</td>\n",
       "      <td>1.392446e+09</td>\n",
       "    </tr>\n",
       "    <tr>\n",
       "      <th>1</th>\n",
       "      <td>76341</td>\n",
       "      <td>tt1392190</td>\n",
       "      <td>28.419936</td>\n",
       "      <td>150000000</td>\n",
       "      <td>378436354</td>\n",
       "      <td>Mad Max: Fury Road</td>\n",
       "      <td>Tom Hardy|Charlize Theron|Hugh Keays-Byrne|Nic...</td>\n",
       "      <td>http://www.madmaxmovie.com/</td>\n",
       "      <td>George Miller</td>\n",
       "      <td>What a Lovely Day.</td>\n",
       "      <td>...</td>\n",
       "      <td>An apocalyptic story set in the furthest reach...</td>\n",
       "      <td>120</td>\n",
       "      <td>Action|Adventure|Science Fiction|Thriller</td>\n",
       "      <td>Village Roadshow Pictures|Kennedy Miller Produ...</td>\n",
       "      <td>5/13/15</td>\n",
       "      <td>6185</td>\n",
       "      <td>7.1</td>\n",
       "      <td>2015</td>\n",
       "      <td>1.379999e+08</td>\n",
       "      <td>3.481613e+08</td>\n",
       "    </tr>\n",
       "    <tr>\n",
       "      <th>2</th>\n",
       "      <td>262500</td>\n",
       "      <td>tt2908446</td>\n",
       "      <td>13.112507</td>\n",
       "      <td>110000000</td>\n",
       "      <td>295238201</td>\n",
       "      <td>Insurgent</td>\n",
       "      <td>Shailene Woodley|Theo James|Kate Winslet|Ansel...</td>\n",
       "      <td>http://www.thedivergentseries.movie/#insurgent</td>\n",
       "      <td>Robert Schwentke</td>\n",
       "      <td>One Choice Can Destroy You</td>\n",
       "      <td>...</td>\n",
       "      <td>Beatrice Prior must confront her inner demons ...</td>\n",
       "      <td>119</td>\n",
       "      <td>Adventure|Science Fiction|Thriller</td>\n",
       "      <td>Summit Entertainment|Mandeville Films|Red Wago...</td>\n",
       "      <td>3/18/15</td>\n",
       "      <td>2480</td>\n",
       "      <td>6.3</td>\n",
       "      <td>2015</td>\n",
       "      <td>1.012000e+08</td>\n",
       "      <td>2.716190e+08</td>\n",
       "    </tr>\n",
       "  </tbody>\n",
       "</table>\n",
       "<p>3 rows × 21 columns</p>\n",
       "</div>"
      ],
      "text/plain": [
       "       id    imdb_id  popularity     budget     revenue      original_title  \\\n",
       "0  135397  tt0369610   32.985763  150000000  1513528810      Jurassic World   \n",
       "1   76341  tt1392190   28.419936  150000000   378436354  Mad Max: Fury Road   \n",
       "2  262500  tt2908446   13.112507  110000000   295238201           Insurgent   \n",
       "\n",
       "                                                cast  \\\n",
       "0  Chris Pratt|Bryce Dallas Howard|Irrfan Khan|Vi...   \n",
       "1  Tom Hardy|Charlize Theron|Hugh Keays-Byrne|Nic...   \n",
       "2  Shailene Woodley|Theo James|Kate Winslet|Ansel...   \n",
       "\n",
       "                                         homepage          director  \\\n",
       "0                   http://www.jurassicworld.com/   Colin Trevorrow   \n",
       "1                     http://www.madmaxmovie.com/     George Miller   \n",
       "2  http://www.thedivergentseries.movie/#insurgent  Robert Schwentke   \n",
       "\n",
       "                      tagline  ...  \\\n",
       "0           The park is open.  ...   \n",
       "1          What a Lovely Day.  ...   \n",
       "2  One Choice Can Destroy You  ...   \n",
       "\n",
       "                                            overview runtime  \\\n",
       "0  Twenty-two years after the events of Jurassic ...     124   \n",
       "1  An apocalyptic story set in the furthest reach...     120   \n",
       "2  Beatrice Prior must confront her inner demons ...     119   \n",
       "\n",
       "                                      genres  \\\n",
       "0  Action|Adventure|Science Fiction|Thriller   \n",
       "1  Action|Adventure|Science Fiction|Thriller   \n",
       "2         Adventure|Science Fiction|Thriller   \n",
       "\n",
       "                                production_companies release_date vote_count  \\\n",
       "0  Universal Studios|Amblin Entertainment|Legenda...       6/9/15       5562   \n",
       "1  Village Roadshow Pictures|Kennedy Miller Produ...      5/13/15       6185   \n",
       "2  Summit Entertainment|Mandeville Films|Red Wago...      3/18/15       2480   \n",
       "\n",
       "   vote_average  release_year    budget_adj   revenue_adj  \n",
       "0           6.5          2015  1.379999e+08  1.392446e+09  \n",
       "1           7.1          2015  1.379999e+08  3.481613e+08  \n",
       "2           6.3          2015  1.012000e+08  2.716190e+08  \n",
       "\n",
       "[3 rows x 21 columns]"
      ]
     },
     "execution_count": 6,
     "metadata": {},
     "output_type": "execute_result"
    }
   ],
   "source": [
    "#viewing the top 3 rows\n",
    "\n",
    "df.head(3)"
   ]
  },
  {
   "cell_type": "code",
   "execution_count": 7,
   "metadata": {},
   "outputs": [
    {
     "data": {
      "text/html": [
       "<div>\n",
       "<style scoped>\n",
       "    .dataframe tbody tr th:only-of-type {\n",
       "        vertical-align: middle;\n",
       "    }\n",
       "\n",
       "    .dataframe tbody tr th {\n",
       "        vertical-align: top;\n",
       "    }\n",
       "\n",
       "    .dataframe thead th {\n",
       "        text-align: right;\n",
       "    }\n",
       "</style>\n",
       "<table border=\"1\" class=\"dataframe\">\n",
       "  <thead>\n",
       "    <tr style=\"text-align: right;\">\n",
       "      <th></th>\n",
       "      <th>id</th>\n",
       "      <th>imdb_id</th>\n",
       "      <th>popularity</th>\n",
       "      <th>budget</th>\n",
       "      <th>revenue</th>\n",
       "      <th>original_title</th>\n",
       "      <th>cast</th>\n",
       "      <th>homepage</th>\n",
       "      <th>director</th>\n",
       "      <th>tagline</th>\n",
       "      <th>...</th>\n",
       "      <th>overview</th>\n",
       "      <th>runtime</th>\n",
       "      <th>genres</th>\n",
       "      <th>production_companies</th>\n",
       "      <th>release_date</th>\n",
       "      <th>vote_count</th>\n",
       "      <th>vote_average</th>\n",
       "      <th>release_year</th>\n",
       "      <th>budget_adj</th>\n",
       "      <th>revenue_adj</th>\n",
       "    </tr>\n",
       "  </thead>\n",
       "  <tbody>\n",
       "    <tr>\n",
       "      <th>2090</th>\n",
       "      <td>42194</td>\n",
       "      <td>tt0411951</td>\n",
       "      <td>0.59643</td>\n",
       "      <td>30000000</td>\n",
       "      <td>967000</td>\n",
       "      <td>TEKKEN</td>\n",
       "      <td>Jon Foo|Kelly Overton|Cary-Hiroyuki Tagawa|Ian...</td>\n",
       "      <td>NaN</td>\n",
       "      <td>Dwight H. Little</td>\n",
       "      <td>Survival is no game</td>\n",
       "      <td>...</td>\n",
       "      <td>In the year of 2039, after World Wars destroy ...</td>\n",
       "      <td>92</td>\n",
       "      <td>Crime|Drama|Action|Thriller|Science Fiction</td>\n",
       "      <td>Namco|Light Song Films</td>\n",
       "      <td>3/20/10</td>\n",
       "      <td>110</td>\n",
       "      <td>5.0</td>\n",
       "      <td>2010</td>\n",
       "      <td>30000000.0</td>\n",
       "      <td>967000.0</td>\n",
       "    </tr>\n",
       "  </tbody>\n",
       "</table>\n",
       "<p>1 rows × 21 columns</p>\n",
       "</div>"
      ],
      "text/plain": [
       "         id    imdb_id  popularity    budget  revenue original_title  \\\n",
       "2090  42194  tt0411951     0.59643  30000000   967000         TEKKEN   \n",
       "\n",
       "                                                   cast homepage  \\\n",
       "2090  Jon Foo|Kelly Overton|Cary-Hiroyuki Tagawa|Ian...      NaN   \n",
       "\n",
       "              director              tagline  ...  \\\n",
       "2090  Dwight H. Little  Survival is no game  ...   \n",
       "\n",
       "                                               overview runtime  \\\n",
       "2090  In the year of 2039, after World Wars destroy ...      92   \n",
       "\n",
       "                                           genres    production_companies  \\\n",
       "2090  Crime|Drama|Action|Thriller|Science Fiction  Namco|Light Song Films   \n",
       "\n",
       "     release_date vote_count  vote_average  release_year  budget_adj  \\\n",
       "2090      3/20/10        110           5.0          2010  30000000.0   \n",
       "\n",
       "      revenue_adj  \n",
       "2090     967000.0  \n",
       "\n",
       "[1 rows x 21 columns]"
      ]
     },
     "execution_count": 7,
     "metadata": {},
     "output_type": "execute_result"
    }
   ],
   "source": [
    "#finding duplicate rows\n",
    "\n",
    "#Since it is one, I choose to ignore the duplicate roww and continue with my data\n",
    "\n",
    "df[df.duplicated()]"
   ]
  },
  {
   "cell_type": "code",
   "execution_count": null,
   "metadata": {},
   "outputs": [],
   "source": []
  },
  {
   "cell_type": "code",
   "execution_count": null,
   "metadata": {},
   "outputs": [],
   "source": []
  },
  {
   "cell_type": "markdown",
   "metadata": {},
   "source": [
    "\n",
    "### Data Cleaning\n",
    "> **-**: From the above look at the data, I noticed some missing data, one duplicate row which I will ignore. Most of the missing data exist in categorical data type columns. I will be filling the genres, cast and director columns with the mode, and drop columns I do not think will be needed to answer the questions I posed above"
   ]
  },
  {
   "cell_type": "code",
   "execution_count": null,
   "metadata": {
    "collapsed": true
   },
   "outputs": [],
   "source": [
    "# After discussing the structure of the data and any problems that need to be\n",
    "#   cleaned, perform those cleaning steps in the second part of this section.\n",
    "\n"
   ]
  },
  {
   "cell_type": "code",
   "execution_count": 8,
   "metadata": {},
   "outputs": [],
   "source": [
    "#A function to find the unique value of a given column name\n",
    "\n",
    "def unique_value(column_name):\n",
    "    unicVal = set()\n",
    "    for item in df[column_name]:\n",
    "        unicVal.add(item)\n",
    "    return unicVal\n"
   ]
  },
  {
   "cell_type": "code",
   "execution_count": 9,
   "metadata": {},
   "outputs": [
    {
     "data": {
      "text/plain": [
       "[1960,\n",
       " 1961,\n",
       " 1962,\n",
       " 1963,\n",
       " 1964,\n",
       " 1965,\n",
       " 1966,\n",
       " 1967,\n",
       " 1968,\n",
       " 1969,\n",
       " 1970,\n",
       " 1971,\n",
       " 1972,\n",
       " 1973,\n",
       " 1974,\n",
       " 1975,\n",
       " 1976,\n",
       " 1977,\n",
       " 1978,\n",
       " 1979,\n",
       " 1980,\n",
       " 1981,\n",
       " 1982,\n",
       " 1983,\n",
       " 1984,\n",
       " 1985,\n",
       " 1986,\n",
       " 1987,\n",
       " 1988,\n",
       " 1989,\n",
       " 1990,\n",
       " 1991,\n",
       " 1992,\n",
       " 1993,\n",
       " 1994,\n",
       " 1995,\n",
       " 1996,\n",
       " 1997,\n",
       " 1998,\n",
       " 1999,\n",
       " 2000,\n",
       " 2001,\n",
       " 2002,\n",
       " 2003,\n",
       " 2004,\n",
       " 2005,\n",
       " 2006,\n",
       " 2007,\n",
       " 2008,\n",
       " 2009,\n",
       " 2010,\n",
       " 2011,\n",
       " 2012,\n",
       " 2013,\n",
       " 2014,\n",
       " 2015]"
      ]
     },
     "execution_count": 9,
     "metadata": {},
     "output_type": "execute_result"
    }
   ],
   "source": [
    "#finding unique years\n",
    "\n",
    "list(unique_value(\"release_year\"))"
   ]
  },
  {
   "cell_type": "code",
   "execution_count": 10,
   "metadata": {},
   "outputs": [],
   "source": [
    "#filling genres column with mode\n",
    "\n",
    "df['genres'].fillna(df.genres.mode()[0], inplace=True)"
   ]
  },
  {
   "cell_type": "code",
   "execution_count": 11,
   "metadata": {},
   "outputs": [],
   "source": [
    "#filling cast column with mode\n",
    "\n",
    "df['cast'].fillna(df.cast.mode()[0], inplace=True)\n"
   ]
  },
  {
   "cell_type": "code",
   "execution_count": 12,
   "metadata": {},
   "outputs": [],
   "source": [
    "#filling director column with mode\n",
    "\n",
    "df['director'].fillna(df.director.mode()[0], inplace=True)"
   ]
  },
  {
   "cell_type": "code",
   "execution_count": 13,
   "metadata": {},
   "outputs": [
    {
     "name": "stdout",
     "output_type": "stream",
     "text": [
      "<class 'pandas.core.frame.DataFrame'>\n",
      "RangeIndex: 10866 entries, 0 to 10865\n",
      "Data columns (total 21 columns):\n",
      " #   Column                Non-Null Count  Dtype  \n",
      "---  ------                --------------  -----  \n",
      " 0   id                    10866 non-null  int64  \n",
      " 1   imdb_id               10856 non-null  object \n",
      " 2   popularity            10866 non-null  float64\n",
      " 3   budget                10866 non-null  int64  \n",
      " 4   revenue               10866 non-null  int64  \n",
      " 5   original_title        10866 non-null  object \n",
      " 6   cast                  10866 non-null  object \n",
      " 7   homepage              2936 non-null   object \n",
      " 8   director              10866 non-null  object \n",
      " 9   tagline               8042 non-null   object \n",
      " 10  keywords              9373 non-null   object \n",
      " 11  overview              10862 non-null  object \n",
      " 12  runtime               10866 non-null  int64  \n",
      " 13  genres                10866 non-null  object \n",
      " 14  production_companies  9836 non-null   object \n",
      " 15  release_date          10866 non-null  object \n",
      " 16  vote_count            10866 non-null  int64  \n",
      " 17  vote_average          10866 non-null  float64\n",
      " 18  release_year          10866 non-null  int64  \n",
      " 19  budget_adj            10866 non-null  float64\n",
      " 20  revenue_adj           10866 non-null  float64\n",
      "dtypes: float64(4), int64(6), object(11)\n",
      "memory usage: 1.7+ MB\n"
     ]
    }
   ],
   "source": [
    "df.info()   #checking if any missing"
   ]
  },
  {
   "cell_type": "code",
   "execution_count": 14,
   "metadata": {},
   "outputs": [
    {
     "data": {
      "text/html": [
       "<div>\n",
       "<style scoped>\n",
       "    .dataframe tbody tr th:only-of-type {\n",
       "        vertical-align: middle;\n",
       "    }\n",
       "\n",
       "    .dataframe tbody tr th {\n",
       "        vertical-align: top;\n",
       "    }\n",
       "\n",
       "    .dataframe thead th {\n",
       "        text-align: right;\n",
       "    }\n",
       "</style>\n",
       "<table border=\"1\" class=\"dataframe\">\n",
       "  <thead>\n",
       "    <tr style=\"text-align: right;\">\n",
       "      <th></th>\n",
       "      <th>id</th>\n",
       "      <th>popularity</th>\n",
       "      <th>budget</th>\n",
       "      <th>revenue</th>\n",
       "      <th>runtime</th>\n",
       "      <th>vote_count</th>\n",
       "      <th>vote_average</th>\n",
       "      <th>release_year</th>\n",
       "      <th>budget_adj</th>\n",
       "      <th>revenue_adj</th>\n",
       "    </tr>\n",
       "  </thead>\n",
       "  <tbody>\n",
       "    <tr>\n",
       "      <th>count</th>\n",
       "      <td>10866.000000</td>\n",
       "      <td>10866.000000</td>\n",
       "      <td>1.086600e+04</td>\n",
       "      <td>1.086600e+04</td>\n",
       "      <td>10866.000000</td>\n",
       "      <td>10866.000000</td>\n",
       "      <td>10866.000000</td>\n",
       "      <td>10866.000000</td>\n",
       "      <td>1.086600e+04</td>\n",
       "      <td>1.086600e+04</td>\n",
       "    </tr>\n",
       "    <tr>\n",
       "      <th>mean</th>\n",
       "      <td>66064.177434</td>\n",
       "      <td>0.646441</td>\n",
       "      <td>1.462570e+07</td>\n",
       "      <td>3.982332e+07</td>\n",
       "      <td>102.070863</td>\n",
       "      <td>217.389748</td>\n",
       "      <td>5.974922</td>\n",
       "      <td>2001.322658</td>\n",
       "      <td>1.755104e+07</td>\n",
       "      <td>5.136436e+07</td>\n",
       "    </tr>\n",
       "    <tr>\n",
       "      <th>std</th>\n",
       "      <td>92130.136561</td>\n",
       "      <td>1.000185</td>\n",
       "      <td>3.091321e+07</td>\n",
       "      <td>1.170035e+08</td>\n",
       "      <td>31.381405</td>\n",
       "      <td>575.619058</td>\n",
       "      <td>0.935142</td>\n",
       "      <td>12.812941</td>\n",
       "      <td>3.430616e+07</td>\n",
       "      <td>1.446325e+08</td>\n",
       "    </tr>\n",
       "    <tr>\n",
       "      <th>min</th>\n",
       "      <td>5.000000</td>\n",
       "      <td>0.000065</td>\n",
       "      <td>0.000000e+00</td>\n",
       "      <td>0.000000e+00</td>\n",
       "      <td>0.000000</td>\n",
       "      <td>10.000000</td>\n",
       "      <td>1.500000</td>\n",
       "      <td>1960.000000</td>\n",
       "      <td>0.000000e+00</td>\n",
       "      <td>0.000000e+00</td>\n",
       "    </tr>\n",
       "    <tr>\n",
       "      <th>25%</th>\n",
       "      <td>10596.250000</td>\n",
       "      <td>0.207583</td>\n",
       "      <td>0.000000e+00</td>\n",
       "      <td>0.000000e+00</td>\n",
       "      <td>90.000000</td>\n",
       "      <td>17.000000</td>\n",
       "      <td>5.400000</td>\n",
       "      <td>1995.000000</td>\n",
       "      <td>0.000000e+00</td>\n",
       "      <td>0.000000e+00</td>\n",
       "    </tr>\n",
       "    <tr>\n",
       "      <th>50%</th>\n",
       "      <td>20669.000000</td>\n",
       "      <td>0.383856</td>\n",
       "      <td>0.000000e+00</td>\n",
       "      <td>0.000000e+00</td>\n",
       "      <td>99.000000</td>\n",
       "      <td>38.000000</td>\n",
       "      <td>6.000000</td>\n",
       "      <td>2006.000000</td>\n",
       "      <td>0.000000e+00</td>\n",
       "      <td>0.000000e+00</td>\n",
       "    </tr>\n",
       "    <tr>\n",
       "      <th>75%</th>\n",
       "      <td>75610.000000</td>\n",
       "      <td>0.713817</td>\n",
       "      <td>1.500000e+07</td>\n",
       "      <td>2.400000e+07</td>\n",
       "      <td>111.000000</td>\n",
       "      <td>145.750000</td>\n",
       "      <td>6.600000</td>\n",
       "      <td>2011.000000</td>\n",
       "      <td>2.085325e+07</td>\n",
       "      <td>3.369710e+07</td>\n",
       "    </tr>\n",
       "    <tr>\n",
       "      <th>max</th>\n",
       "      <td>417859.000000</td>\n",
       "      <td>32.985763</td>\n",
       "      <td>4.250000e+08</td>\n",
       "      <td>2.781506e+09</td>\n",
       "      <td>900.000000</td>\n",
       "      <td>9767.000000</td>\n",
       "      <td>9.200000</td>\n",
       "      <td>2015.000000</td>\n",
       "      <td>4.250000e+08</td>\n",
       "      <td>2.827124e+09</td>\n",
       "    </tr>\n",
       "  </tbody>\n",
       "</table>\n",
       "</div>"
      ],
      "text/plain": [
       "                  id    popularity        budget       revenue       runtime  \\\n",
       "count   10866.000000  10866.000000  1.086600e+04  1.086600e+04  10866.000000   \n",
       "mean    66064.177434      0.646441  1.462570e+07  3.982332e+07    102.070863   \n",
       "std     92130.136561      1.000185  3.091321e+07  1.170035e+08     31.381405   \n",
       "min         5.000000      0.000065  0.000000e+00  0.000000e+00      0.000000   \n",
       "25%     10596.250000      0.207583  0.000000e+00  0.000000e+00     90.000000   \n",
       "50%     20669.000000      0.383856  0.000000e+00  0.000000e+00     99.000000   \n",
       "75%     75610.000000      0.713817  1.500000e+07  2.400000e+07    111.000000   \n",
       "max    417859.000000     32.985763  4.250000e+08  2.781506e+09    900.000000   \n",
       "\n",
       "         vote_count  vote_average  release_year    budget_adj   revenue_adj  \n",
       "count  10866.000000  10866.000000  10866.000000  1.086600e+04  1.086600e+04  \n",
       "mean     217.389748      5.974922   2001.322658  1.755104e+07  5.136436e+07  \n",
       "std      575.619058      0.935142     12.812941  3.430616e+07  1.446325e+08  \n",
       "min       10.000000      1.500000   1960.000000  0.000000e+00  0.000000e+00  \n",
       "25%       17.000000      5.400000   1995.000000  0.000000e+00  0.000000e+00  \n",
       "50%       38.000000      6.000000   2006.000000  0.000000e+00  0.000000e+00  \n",
       "75%      145.750000      6.600000   2011.000000  2.085325e+07  3.369710e+07  \n",
       "max     9767.000000      9.200000   2015.000000  4.250000e+08  2.827124e+09  "
      ]
     },
     "execution_count": 14,
     "metadata": {},
     "output_type": "execute_result"
    }
   ],
   "source": [
    "#Summary of data\n",
    "\n",
    "df.describe()  "
   ]
  },
  {
   "cell_type": "markdown",
   "metadata": {},
   "source": [
    "#### Columns to drop\n",
    "> **(1)**: homepage, tagline, production_companies, keywords, overview"
   ]
  },
  {
   "cell_type": "code",
   "execution_count": 15,
   "metadata": {},
   "outputs": [],
   "source": [
    "df.drop(['homepage', 'tagline', 'keywords', 'overview', 'production_companies'], axis = 1, inplace = True)  #dropping columns"
   ]
  },
  {
   "cell_type": "markdown",
   "metadata": {},
   "source": [
    "<a id='eda'></a>\n",
    "## Exploratory Data Analysis\n",
    "\n",
    "\n",
    "\n"
   ]
  },
  {
   "cell_type": "code",
   "execution_count": 16,
   "metadata": {},
   "outputs": [
    {
     "data": {
      "text/plain": [
       "array([[<AxesSubplot:title={'center':'id'}>,\n",
       "        <AxesSubplot:title={'center':'popularity'}>,\n",
       "        <AxesSubplot:title={'center':'budget'}>],\n",
       "       [<AxesSubplot:title={'center':'revenue'}>,\n",
       "        <AxesSubplot:title={'center':'runtime'}>,\n",
       "        <AxesSubplot:title={'center':'vote_count'}>],\n",
       "       [<AxesSubplot:title={'center':'vote_average'}>,\n",
       "        <AxesSubplot:title={'center':'release_year'}>,\n",
       "        <AxesSubplot:title={'center':'budget_adj'}>],\n",
       "       [<AxesSubplot:title={'center':'revenue_adj'}>, <AxesSubplot:>,\n",
       "        <AxesSubplot:>]], dtype=object)"
      ]
     },
     "execution_count": 16,
     "metadata": {},
     "output_type": "execute_result"
    },
    {
     "data": {
      "image/png": "[encoded data removed]",
      "text/plain": [
       "<Figure size 720x576 with 12 Axes>"
      ]
     },
     "metadata": {
      "needs_background": "light"
     },
     "output_type": "display_data"
    }
   ],
   "source": [
    "#Understanding the data\n",
    "\n",
    "df.hist(figsize=(10,8))"
   ]
  },
  {
   "cell_type": "markdown",
   "metadata": {},
   "source": [
    "##### Visualizing correllation of variables"
   ]
  },
  {
   "cell_type": "code",
   "execution_count": 17,
   "metadata": {},
   "outputs": [
    {
     "data": {
      "text/html": [
       "<style type=\"text/css\">\n",
       "#T_23c49_row0_col0, #T_23c49_row1_col1, #T_23c49_row2_col2, #T_23c49_row3_col3, #T_23c49_row4_col4, #T_23c49_row5_col5, #T_23c49_row6_col6, #T_23c49_row7_col7, #T_23c49_row8_col8, #T_23c49_row9_col9 {\n",
       "  background-color: #08306b;\n",
       "  color: #f1f1f1;\n",
       "}\n",
       "#T_23c49_row0_col1, #T_23c49_row0_col2, #T_23c49_row0_col3, #T_23c49_row0_col5, #T_23c49_row0_col8, #T_23c49_row0_col9, #T_23c49_row4_col7, #T_23c49_row6_col7, #T_23c49_row7_col4, #T_23c49_row7_col6, #T_23c49_row8_col0 {\n",
       "  background-color: #f7fbff;\n",
       "  color: #000000;\n",
       "}\n",
       "#T_23c49_row0_col4 {\n",
       "  background-color: #f2f8fd;\n",
       "  color: #000000;\n",
       "}\n",
       "#T_23c49_row0_col6 {\n",
       "  background-color: #edf4fc;\n",
       "  color: #000000;\n",
       "}\n",
       "#T_23c49_row0_col7 {\n",
       "  background-color: #56a0ce;\n",
       "  color: #f1f1f1;\n",
       "}\n",
       "#T_23c49_row1_col0 {\n",
       "  background-color: #dae8f6;\n",
       "  color: #000000;\n",
       "}\n",
       "#T_23c49_row1_col2 {\n",
       "  background-color: #4997c9;\n",
       "  color: #f1f1f1;\n",
       "}\n",
       "#T_23c49_row1_col3 {\n",
       "  background-color: #3080bd;\n",
       "  color: #f1f1f1;\n",
       "}\n",
       "#T_23c49_row1_col4 {\n",
       "  background-color: #cadef0;\n",
       "  color: #000000;\n",
       "}\n",
       "#T_23c49_row1_col5 {\n",
       "  background-color: #1562a9;\n",
       "  color: #f1f1f1;\n",
       "}\n",
       "#T_23c49_row1_col6, #T_23c49_row4_col2, #T_23c49_row6_col9 {\n",
       "  background-color: #b9d6ea;\n",
       "  color: #000000;\n",
       "}\n",
       "#T_23c49_row1_col7 {\n",
       "  background-color: #d3e3f3;\n",
       "  color: #000000;\n",
       "}\n",
       "#T_23c49_row1_col8 {\n",
       "  background-color: #4d99ca;\n",
       "  color: #f1f1f1;\n",
       "}\n",
       "#T_23c49_row1_col9 {\n",
       "  background-color: #3989c1;\n",
       "  color: #f1f1f1;\n",
       "}\n",
       "#T_23c49_row2_col0, #T_23c49_row9_col0 {\n",
       "  background-color: #eff6fc;\n",
       "  color: #000000;\n",
       "}\n",
       "#T_23c49_row2_col1 {\n",
       "  background-color: #5aa2cf;\n",
       "  color: #f1f1f1;\n",
       "}\n",
       "#T_23c49_row2_col3 {\n",
       "  background-color: #1f6eb3;\n",
       "  color: #f1f1f1;\n",
       "}\n",
       "#T_23c49_row2_col4, #T_23c49_row4_col9 {\n",
       "  background-color: #bed8ec;\n",
       "  color: #000000;\n",
       "}\n",
       "#T_23c49_row2_col5 {\n",
       "  background-color: #3c8cc3;\n",
       "  color: #f1f1f1;\n",
       "}\n",
       "#T_23c49_row2_col6 {\n",
       "  background-color: #d4e4f4;\n",
       "  color: #000000;\n",
       "}\n",
       "#T_23c49_row2_col7 {\n",
       "  background-color: #cee0f2;\n",
       "  color: #000000;\n",
       "}\n",
       "#T_23c49_row2_col8, #T_23c49_row8_col2 {\n",
       "  background-color: #083674;\n",
       "  color: #f1f1f1;\n",
       "}\n",
       "#T_23c49_row2_col9, #T_23c49_row3_col1, #T_23c49_row9_col2 {\n",
       "  background-color: #3686c0;\n",
       "  color: #f1f1f1;\n",
       "}\n",
       "#T_23c49_row3_col0 {\n",
       "  background-color: #e8f1fa;\n",
       "  color: #000000;\n",
       "}\n",
       "#T_23c49_row3_col2 {\n",
       "  background-color: #1d6cb1;\n",
       "  color: #f1f1f1;\n",
       "}\n",
       "#T_23c49_row3_col4, #T_23c49_row5_col4 {\n",
       "  background-color: #c6dbef;\n",
       "  color: #000000;\n",
       "}\n",
       "#T_23c49_row3_col5 {\n",
       "  background-color: #1764ab;\n",
       "  color: #f1f1f1;\n",
       "}\n",
       "#T_23c49_row3_col6 {\n",
       "  background-color: #c3daee;\n",
       "  color: #000000;\n",
       "}\n",
       "#T_23c49_row3_col7 {\n",
       "  background-color: #d8e7f5;\n",
       "  color: #000000;\n",
       "}\n",
       "#T_23c49_row3_col8 {\n",
       "  background-color: #2070b4;\n",
       "  color: #f1f1f1;\n",
       "}\n",
       "#T_23c49_row3_col9, #T_23c49_row9_col3 {\n",
       "  background-color: #084387;\n",
       "  color: #f1f1f1;\n",
       "}\n",
       "#T_23c49_row4_col0 {\n",
       "  background-color: #e7f0fa;\n",
       "  color: #000000;\n",
       "}\n",
       "#T_23c49_row4_col1 {\n",
       "  background-color: #d9e8f5;\n",
       "  color: #000000;\n",
       "}\n",
       "#T_23c49_row4_col3 {\n",
       "  background-color: #c8dcf0;\n",
       "  color: #000000;\n",
       "}\n",
       "#T_23c49_row4_col5, #T_23c49_row6_col2 {\n",
       "  background-color: #d1e2f3;\n",
       "  color: #000000;\n",
       "}\n",
       "#T_23c49_row4_col6, #T_23c49_row6_col4 {\n",
       "  background-color: #c7dcef;\n",
       "  color: #000000;\n",
       "}\n",
       "#T_23c49_row4_col8 {\n",
       "  background-color: #a8cee4;\n",
       "  color: #000000;\n",
       "}\n",
       "#T_23c49_row5_col0 {\n",
       "  background-color: #ddeaf7;\n",
       "  color: #000000;\n",
       "}\n",
       "#T_23c49_row5_col1 {\n",
       "  background-color: #1663aa;\n",
       "  color: #f1f1f1;\n",
       "}\n",
       "#T_23c49_row5_col2 {\n",
       "  background-color: #3484bf;\n",
       "  color: #f1f1f1;\n",
       "}\n",
       "#T_23c49_row5_col3 {\n",
       "  background-color: #1561a9;\n",
       "  color: #f1f1f1;\n",
       "}\n",
       "#T_23c49_row5_col6 {\n",
       "  background-color: #abd0e6;\n",
       "  color: #000000;\n",
       "}\n",
       "#T_23c49_row5_col7 {\n",
       "  background-color: #d0e1f2;\n",
       "  color: #000000;\n",
       "}\n",
       "#T_23c49_row5_col8 {\n",
       "  background-color: #3a8ac2;\n",
       "  color: #f1f1f1;\n",
       "}\n",
       "#T_23c49_row5_col9 {\n",
       "  background-color: #2272b6;\n",
       "  color: #f1f1f1;\n",
       "}\n",
       "#T_23c49_row6_col0 {\n",
       "  background-color: #e1edf8;\n",
       "  color: #000000;\n",
       "}\n",
       "#T_23c49_row6_col1 {\n",
       "  background-color: #ccdff1;\n",
       "  color: #000000;\n",
       "}\n",
       "#T_23c49_row6_col3 {\n",
       "  background-color: #c7dbef;\n",
       "  color: #000000;\n",
       "}\n",
       "#T_23c49_row6_col5, #T_23c49_row9_col6 {\n",
       "  background-color: #bdd7ec;\n",
       "  color: #000000;\n",
       "}\n",
       "#T_23c49_row6_col8 {\n",
       "  background-color: #c9ddf0;\n",
       "  color: #000000;\n",
       "}\n",
       "#T_23c49_row7_col0 {\n",
       "  background-color: #4e9acb;\n",
       "  color: #f1f1f1;\n",
       "}\n",
       "#T_23c49_row7_col1 {\n",
       "  background-color: #e3eef8;\n",
       "  color: #000000;\n",
       "}\n",
       "#T_23c49_row7_col2 {\n",
       "  background-color: #cbdef1;\n",
       "  color: #000000;\n",
       "}\n",
       "#T_23c49_row7_col3 {\n",
       "  background-color: #dbe9f6;\n",
       "  color: #000000;\n",
       "}\n",
       "#T_23c49_row7_col5 {\n",
       "  background-color: #dce9f6;\n",
       "  color: #000000;\n",
       "}\n",
       "#T_23c49_row7_col8 {\n",
       "  background-color: #d5e5f4;\n",
       "  color: #000000;\n",
       "}\n",
       "#T_23c49_row7_col9 {\n",
       "  background-color: #eaf3fb;\n",
       "  color: #000000;\n",
       "}\n",
       "#T_23c49_row8_col1 {\n",
       "  background-color: #64a9d3;\n",
       "  color: #f1f1f1;\n",
       "}\n",
       "#T_23c49_row8_col3 {\n",
       "  background-color: #2575b7;\n",
       "  color: #f1f1f1;\n",
       "}\n",
       "#T_23c49_row8_col4 {\n",
       "  background-color: #b5d4e9;\n",
       "  color: #000000;\n",
       "}\n",
       "#T_23c49_row8_col5 {\n",
       "  background-color: #4a98c9;\n",
       "  color: #f1f1f1;\n",
       "}\n",
       "#T_23c49_row8_col6 {\n",
       "  background-color: #d2e3f3;\n",
       "  color: #000000;\n",
       "}\n",
       "#T_23c49_row8_col7 {\n",
       "  background-color: #dfecf7;\n",
       "  color: #000000;\n",
       "}\n",
       "#T_23c49_row8_col9 {\n",
       "  background-color: #3181bd;\n",
       "  color: #f1f1f1;\n",
       "}\n",
       "#T_23c49_row9_col1 {\n",
       "  background-color: #4594c7;\n",
       "  color: #f1f1f1;\n",
       "}\n",
       "#T_23c49_row9_col4 {\n",
       "  background-color: #c2d9ee;\n",
       "  color: #000000;\n",
       "}\n",
       "#T_23c49_row9_col5 {\n",
       "  background-color: #2a7ab9;\n",
       "  color: #f1f1f1;\n",
       "}\n",
       "#T_23c49_row9_col7 {\n",
       "  background-color: #eef5fc;\n",
       "  color: #000000;\n",
       "}\n",
       "#T_23c49_row9_col8 {\n",
       "  background-color: #2e7ebc;\n",
       "  color: #f1f1f1;\n",
       "}\n",
       "</style>\n",
       "<table id=\"T_23c49\">\n",
       "  <thead>\n",
       "    <tr>\n",
       "      <th class=\"blank level0\" >&nbsp;</th>\n",
       "      <th id=\"T_23c49_level0_col0\" class=\"col_heading level0 col0\" >id</th>\n",
       "      <th id=\"T_23c49_level0_col1\" class=\"col_heading level0 col1\" >popularity</th>\n",
       "      <th id=\"T_23c49_level0_col2\" class=\"col_heading level0 col2\" >budget</th>\n",
       "      <th id=\"T_23c49_level0_col3\" class=\"col_heading level0 col3\" >revenue</th>\n",
       "      <th id=\"T_23c49_level0_col4\" class=\"col_heading level0 col4\" >runtime</th>\n",
       "      <th id=\"T_23c49_level0_col5\" class=\"col_heading level0 col5\" >vote_count</th>\n",
       "      <th id=\"T_23c49_level0_col6\" class=\"col_heading level0 col6\" >vote_average</th>\n",
       "      <th id=\"T_23c49_level0_col7\" class=\"col_heading level0 col7\" >release_year</th>\n",
       "      <th id=\"T_23c49_level0_col8\" class=\"col_heading level0 col8\" >budget_adj</th>\n",
       "      <th id=\"T_23c49_level0_col9\" class=\"col_heading level0 col9\" >revenue_adj</th>\n",
       "    </tr>\n",
       "  </thead>\n",
       "  <tbody>\n",
       "    <tr>\n",
       "      <th id=\"T_23c49_level0_row0\" class=\"row_heading level0 row0\" >id</th>\n",
       "      <td id=\"T_23c49_row0_col0\" class=\"data row0 col0\" >1.000000</td>\n",
       "      <td id=\"T_23c49_row0_col1\" class=\"data row0 col1\" >-0.014350</td>\n",
       "      <td id=\"T_23c49_row0_col2\" class=\"data row0 col2\" >-0.141351</td>\n",
       "      <td id=\"T_23c49_row0_col3\" class=\"data row0 col3\" >-0.099227</td>\n",
       "      <td id=\"T_23c49_row0_col4\" class=\"data row0 col4\" >-0.088360</td>\n",
       "      <td id=\"T_23c49_row0_col5\" class=\"data row0 col5\" >-0.035551</td>\n",
       "      <td id=\"T_23c49_row0_col6\" class=\"data row0 col6\" >-0.058363</td>\n",
       "      <td id=\"T_23c49_row0_col7\" class=\"data row0 col7\" >0.511364</td>\n",
       "      <td id=\"T_23c49_row0_col8\" class=\"data row0 col8\" >-0.189015</td>\n",
       "      <td id=\"T_23c49_row0_col9\" class=\"data row0 col9\" >-0.138477</td>\n",
       "    </tr>\n",
       "    <tr>\n",
       "      <th id=\"T_23c49_level0_row1\" class=\"row_heading level0 row1\" >popularity</th>\n",
       "      <td id=\"T_23c49_row1_col0\" class=\"data row1 col0\" >-0.014350</td>\n",
       "      <td id=\"T_23c49_row1_col1\" class=\"data row1 col1\" >1.000000</td>\n",
       "      <td id=\"T_23c49_row1_col2\" class=\"data row1 col2\" >0.545472</td>\n",
       "      <td id=\"T_23c49_row1_col3\" class=\"data row1 col3\" >0.663358</td>\n",
       "      <td id=\"T_23c49_row1_col4\" class=\"data row1 col4\" >0.139033</td>\n",
       "      <td id=\"T_23c49_row1_col5\" class=\"data row1 col5\" >0.800828</td>\n",
       "      <td id=\"T_23c49_row1_col6\" class=\"data row1 col6\" >0.209511</td>\n",
       "      <td id=\"T_23c49_row1_col7\" class=\"data row1 col7\" >0.089801</td>\n",
       "      <td id=\"T_23c49_row1_col8\" class=\"data row1 col8\" >0.513550</td>\n",
       "      <td id=\"T_23c49_row1_col9\" class=\"data row1 col9\" >0.609083</td>\n",
       "    </tr>\n",
       "    <tr>\n",
       "      <th id=\"T_23c49_level0_row2\" class=\"row_heading level0 row2\" >budget</th>\n",
       "      <td id=\"T_23c49_row2_col0\" class=\"data row2 col0\" >-0.141351</td>\n",
       "      <td id=\"T_23c49_row2_col1\" class=\"data row2 col1\" >0.545472</td>\n",
       "      <td id=\"T_23c49_row2_col2\" class=\"data row2 col2\" >1.000000</td>\n",
       "      <td id=\"T_23c49_row2_col3\" class=\"data row2 col3\" >0.734901</td>\n",
       "      <td id=\"T_23c49_row2_col4\" class=\"data row2 col4\" >0.191283</td>\n",
       "      <td id=\"T_23c49_row2_col5\" class=\"data row2 col5\" >0.632702</td>\n",
       "      <td id=\"T_23c49_row2_col6\" class=\"data row2 col6\" >0.081014</td>\n",
       "      <td id=\"T_23c49_row2_col7\" class=\"data row2 col7\" >0.115931</td>\n",
       "      <td id=\"T_23c49_row2_col8\" class=\"data row2 col8\" >0.968963</td>\n",
       "      <td id=\"T_23c49_row2_col9\" class=\"data row2 col9\" >0.622505</td>\n",
       "    </tr>\n",
       "    <tr>\n",
       "      <th id=\"T_23c49_level0_row3\" class=\"row_heading level0 row3\" >revenue</th>\n",
       "      <td id=\"T_23c49_row3_col0\" class=\"data row3 col0\" >-0.099227</td>\n",
       "      <td id=\"T_23c49_row3_col1\" class=\"data row3 col1\" >0.663358</td>\n",
       "      <td id=\"T_23c49_row3_col2\" class=\"data row3 col2\" >0.734901</td>\n",
       "      <td id=\"T_23c49_row3_col3\" class=\"data row3 col3\" >1.000000</td>\n",
       "      <td id=\"T_23c49_row3_col4\" class=\"data row3 col4\" >0.162838</td>\n",
       "      <td id=\"T_23c49_row3_col5\" class=\"data row3 col5\" >0.791175</td>\n",
       "      <td id=\"T_23c49_row3_col6\" class=\"data row3 col6\" >0.172564</td>\n",
       "      <td id=\"T_23c49_row3_col7\" class=\"data row3 col7\" >0.057048</td>\n",
       "      <td id=\"T_23c49_row3_col8\" class=\"data row3 col8\" >0.706427</td>\n",
       "      <td id=\"T_23c49_row3_col9\" class=\"data row3 col9\" >0.919110</td>\n",
       "    </tr>\n",
       "    <tr>\n",
       "      <th id=\"T_23c49_level0_row4\" class=\"row_heading level0 row4\" >runtime</th>\n",
       "      <td id=\"T_23c49_row4_col0\" class=\"data row4 col0\" >-0.088360</td>\n",
       "      <td id=\"T_23c49_row4_col1\" class=\"data row4 col1\" >0.139033</td>\n",
       "      <td id=\"T_23c49_row4_col2\" class=\"data row4 col2\" >0.191283</td>\n",
       "      <td id=\"T_23c49_row4_col3\" class=\"data row4 col3\" >0.162838</td>\n",
       "      <td id=\"T_23c49_row4_col4\" class=\"data row4 col4\" >1.000000</td>\n",
       "      <td id=\"T_23c49_row4_col5\" class=\"data row4 col5\" >0.163278</td>\n",
       "      <td id=\"T_23c49_row4_col6\" class=\"data row4 col6\" >0.156835</td>\n",
       "      <td id=\"T_23c49_row4_col7\" class=\"data row4 col7\" >-0.117204</td>\n",
       "      <td id=\"T_23c49_row4_col8\" class=\"data row4 col8\" >0.221114</td>\n",
       "      <td id=\"T_23c49_row4_col9\" class=\"data row4 col9\" >0.175676</td>\n",
       "    </tr>\n",
       "    <tr>\n",
       "      <th id=\"T_23c49_level0_row5\" class=\"row_heading level0 row5\" >vote_count</th>\n",
       "      <td id=\"T_23c49_row5_col0\" class=\"data row5 col0\" >-0.035551</td>\n",
       "      <td id=\"T_23c49_row5_col1\" class=\"data row5 col1\" >0.800828</td>\n",
       "      <td id=\"T_23c49_row5_col2\" class=\"data row5 col2\" >0.632702</td>\n",
       "      <td id=\"T_23c49_row5_col3\" class=\"data row5 col3\" >0.791175</td>\n",
       "      <td id=\"T_23c49_row5_col4\" class=\"data row5 col4\" >0.163278</td>\n",
       "      <td id=\"T_23c49_row5_col5\" class=\"data row5 col5\" >1.000000</td>\n",
       "      <td id=\"T_23c49_row5_col6\" class=\"data row5 col6\" >0.253823</td>\n",
       "      <td id=\"T_23c49_row5_col7\" class=\"data row5 col7\" >0.107948</td>\n",
       "      <td id=\"T_23c49_row5_col8\" class=\"data row5 col8\" >0.587051</td>\n",
       "      <td id=\"T_23c49_row5_col9\" class=\"data row5 col9\" >0.707942</td>\n",
       "    </tr>\n",
       "    <tr>\n",
       "      <th id=\"T_23c49_level0_row6\" class=\"row_heading level0 row6\" >vote_average</th>\n",
       "      <td id=\"T_23c49_row6_col0\" class=\"data row6 col0\" >-0.058363</td>\n",
       "      <td id=\"T_23c49_row6_col1\" class=\"data row6 col1\" >0.209511</td>\n",
       "      <td id=\"T_23c49_row6_col2\" class=\"data row6 col2\" >0.081014</td>\n",
       "      <td id=\"T_23c49_row6_col3\" class=\"data row6 col3\" >0.172564</td>\n",
       "      <td id=\"T_23c49_row6_col4\" class=\"data row6 col4\" >0.156835</td>\n",
       "      <td id=\"T_23c49_row6_col5\" class=\"data row6 col5\" >0.253823</td>\n",
       "      <td id=\"T_23c49_row6_col6\" class=\"data row6 col6\" >1.000000</td>\n",
       "      <td id=\"T_23c49_row6_col7\" class=\"data row6 col7\" >-0.117632</td>\n",
       "      <td id=\"T_23c49_row6_col8\" class=\"data row6 col8\" >0.093039</td>\n",
       "      <td id=\"T_23c49_row6_col9\" class=\"data row6 col9\" >0.193085</td>\n",
       "    </tr>\n",
       "    <tr>\n",
       "      <th id=\"T_23c49_level0_row7\" class=\"row_heading level0 row7\" >release_year</th>\n",
       "      <td id=\"T_23c49_row7_col0\" class=\"data row7 col0\" >0.511364</td>\n",
       "      <td id=\"T_23c49_row7_col1\" class=\"data row7 col1\" >0.089801</td>\n",
       "      <td id=\"T_23c49_row7_col2\" class=\"data row7 col2\" >0.115931</td>\n",
       "      <td id=\"T_23c49_row7_col3\" class=\"data row7 col3\" >0.057048</td>\n",
       "      <td id=\"T_23c49_row7_col4\" class=\"data row7 col4\" >-0.117204</td>\n",
       "      <td id=\"T_23c49_row7_col5\" class=\"data row7 col5\" >0.107948</td>\n",
       "      <td id=\"T_23c49_row7_col6\" class=\"data row7 col6\" >-0.117632</td>\n",
       "      <td id=\"T_23c49_row7_col7\" class=\"data row7 col7\" >1.000000</td>\n",
       "      <td id=\"T_23c49_row7_col8\" class=\"data row7 col8\" >0.016793</td>\n",
       "      <td id=\"T_23c49_row7_col9\" class=\"data row7 col9\" >-0.066256</td>\n",
       "    </tr>\n",
       "    <tr>\n",
       "      <th id=\"T_23c49_level0_row8\" class=\"row_heading level0 row8\" >budget_adj</th>\n",
       "      <td id=\"T_23c49_row8_col0\" class=\"data row8 col0\" >-0.189015</td>\n",
       "      <td id=\"T_23c49_row8_col1\" class=\"data row8 col1\" >0.513550</td>\n",
       "      <td id=\"T_23c49_row8_col2\" class=\"data row8 col2\" >0.968963</td>\n",
       "      <td id=\"T_23c49_row8_col3\" class=\"data row8 col3\" >0.706427</td>\n",
       "      <td id=\"T_23c49_row8_col4\" class=\"data row8 col4\" >0.221114</td>\n",
       "      <td id=\"T_23c49_row8_col5\" class=\"data row8 col5\" >0.587051</td>\n",
       "      <td id=\"T_23c49_row8_col6\" class=\"data row8 col6\" >0.093039</td>\n",
       "      <td id=\"T_23c49_row8_col7\" class=\"data row8 col7\" >0.016793</td>\n",
       "      <td id=\"T_23c49_row8_col8\" class=\"data row8 col8\" >1.000000</td>\n",
       "      <td id=\"T_23c49_row8_col9\" class=\"data row8 col9\" >0.646607</td>\n",
       "    </tr>\n",
       "    <tr>\n",
       "      <th id=\"T_23c49_level0_row9\" class=\"row_heading level0 row9\" >revenue_adj</th>\n",
       "      <td id=\"T_23c49_row9_col0\" class=\"data row9 col0\" >-0.138477</td>\n",
       "      <td id=\"T_23c49_row9_col1\" class=\"data row9 col1\" >0.609083</td>\n",
       "      <td id=\"T_23c49_row9_col2\" class=\"data row9 col2\" >0.622505</td>\n",
       "      <td id=\"T_23c49_row9_col3\" class=\"data row9 col3\" >0.919110</td>\n",
       "      <td id=\"T_23c49_row9_col4\" class=\"data row9 col4\" >0.175676</td>\n",
       "      <td id=\"T_23c49_row9_col5\" class=\"data row9 col5\" >0.707942</td>\n",
       "      <td id=\"T_23c49_row9_col6\" class=\"data row9 col6\" >0.193085</td>\n",
       "      <td id=\"T_23c49_row9_col7\" class=\"data row9 col7\" >-0.066256</td>\n",
       "      <td id=\"T_23c49_row9_col8\" class=\"data row9 col8\" >0.646607</td>\n",
       "      <td id=\"T_23c49_row9_col9\" class=\"data row9 col9\" >1.000000</td>\n",
       "    </tr>\n",
       "  </tbody>\n",
       "</table>\n"
      ],
      "text/plain": [
       "<pandas.io.formats.style.Styler at 0x25671c4a650>"
      ]
     },
     "execution_count": 17,
     "metadata": {},
     "output_type": "execute_result"
    }
   ],
   "source": [
    "df.corr().style.background_gradient(cmap=\"Blues\")"
   ]
  },
  {
   "cell_type": "markdown",
   "metadata": {},
   "source": [
    "### Research Question 1: Does a high budgeted movie lead to high revenue?)"
   ]
  },
  {
   "cell_type": "markdown",
   "metadata": {},
   "source": [
    "The below scatterplots looks at the relationships between revenue and budget "
   ]
  },
  {
   "cell_type": "code",
   "execution_count": 19,
   "metadata": {},
   "outputs": [
    {
     "data": {
      "text/plain": [
       "[Text(0.5, 1.0, 'Relationship between revenue and budget')]"
      ]
     },
     "execution_count": 19,
     "metadata": {},
     "output_type": "execute_result"
    },
    {
     "data": {
      "image/png": "[encoded data removed]",
      "text/plain": [
       "<Figure size 432x288 with 1 Axes>"
      ]
     },
     "metadata": {
      "needs_background": "light"
     },
     "output_type": "display_data"
    }
   ],
   "source": [
    " #plotting scatterplot with seaborn using revenue\n",
    "    \n",
    "sns.scatterplot(x=\"budget\", y=\"revenue\", data=df).set(title='Relationship between revenue and budget')"
   ]
  },
  {
   "cell_type": "code",
   "execution_count": 20,
   "metadata": {},
   "outputs": [
    {
     "data": {
      "image/png": "[encoded data removed]",
      "text/plain": [
       "<Figure size 432x288 with 1 Axes>"
      ]
     },
     "metadata": {
      "needs_background": "light"
     },
     "output_type": "display_data"
    }
   ],
   "source": [
    " #plotting scatterplot with seaborn using revenue_adj\n",
    "    \n",
    "sns.scatterplot(x=\"budget\", y=\"revenue_adj\", data=df).set(title='Relationship between revenue_adj and budget');"
   ]
  },
  {
   "cell_type": "markdown",
   "metadata": {},
   "source": [
    "###### from the above scatter plor and correlation table, the correlation between budget and reveue, budget and revenue_adj is positive. It could be inferred that a high budget movie will likely bring in more revenue. Investors in the movie industry may likely want to budget a higher figure if they want increase revenue\n"
   ]
  },
  {
   "cell_type": "code",
   "execution_count": null,
   "metadata": {
    "collapsed": true
   },
   "outputs": [],
   "source": []
  },
  {
   "cell_type": "markdown",
   "metadata": {},
   "source": [
    "### Research Question 2: Does a movie popularity level affect how much it is rated!"
   ]
  },
  {
   "cell_type": "code",
   "execution_count": 21,
   "metadata": {},
   "outputs": [
    {
     "data": {
      "text/plain": [
       "count    10866.000000\n",
       "mean         0.646441\n",
       "std          1.000185\n",
       "min          0.000065\n",
       "25%          0.207583\n",
       "50%          0.383856\n",
       "75%          0.713817\n",
       "max         32.985763\n",
       "Name: popularity, dtype: float64"
      ]
     },
     "execution_count": 21,
     "metadata": {},
     "output_type": "execute_result"
    }
   ],
   "source": [
    "df[\"popularity\"].describe()"
   ]
  },
  {
   "cell_type": "code",
   "execution_count": 22,
   "metadata": {},
   "outputs": [],
   "source": [
    "# Bin edges that will be used to \"cut\" the data into groups\n",
    "bin_edges = [df[\"popularity\"].min(), df.popularity.quantile(0.25),df[\"popularity\"].median(), df.popularity.quantile(0.75), df[\"popularity\"].max()] "
   ]
  },
  {
   "cell_type": "code",
   "execution_count": 23,
   "metadata": {},
   "outputs": [],
   "source": [
    "# Labels for the four popularity level groups\n",
    "bin_names = [\"Low\" , \"Medium\", \"Moderately High\" ,  \"High\"]  "
   ]
  },
  {
   "cell_type": "code",
   "execution_count": 24,
   "metadata": {},
   "outputs": [
    {
     "data": {
      "text/html": [
       "<div>\n",
       "<style scoped>\n",
       "    .dataframe tbody tr th:only-of-type {\n",
       "        vertical-align: middle;\n",
       "    }\n",
       "\n",
       "    .dataframe tbody tr th {\n",
       "        vertical-align: top;\n",
       "    }\n",
       "\n",
       "    .dataframe thead th {\n",
       "        text-align: right;\n",
       "    }\n",
       "</style>\n",
       "<table border=\"1\" class=\"dataframe\">\n",
       "  <thead>\n",
       "    <tr style=\"text-align: right;\">\n",
       "      <th></th>\n",
       "      <th>id</th>\n",
       "      <th>imdb_id</th>\n",
       "      <th>popularity</th>\n",
       "      <th>budget</th>\n",
       "      <th>revenue</th>\n",
       "      <th>original_title</th>\n",
       "      <th>cast</th>\n",
       "      <th>director</th>\n",
       "      <th>runtime</th>\n",
       "      <th>genres</th>\n",
       "      <th>release_date</th>\n",
       "      <th>vote_count</th>\n",
       "      <th>vote_average</th>\n",
       "      <th>release_year</th>\n",
       "      <th>budget_adj</th>\n",
       "      <th>revenue_adj</th>\n",
       "      <th>popularity_levels</th>\n",
       "    </tr>\n",
       "  </thead>\n",
       "  <tbody>\n",
       "    <tr>\n",
       "      <th>0</th>\n",
       "      <td>135397</td>\n",
       "      <td>tt0369610</td>\n",
       "      <td>32.985763</td>\n",
       "      <td>150000000</td>\n",
       "      <td>1513528810</td>\n",
       "      <td>Jurassic World</td>\n",
       "      <td>Chris Pratt|Bryce Dallas Howard|Irrfan Khan|Vi...</td>\n",
       "      <td>Colin Trevorrow</td>\n",
       "      <td>124</td>\n",
       "      <td>Action|Adventure|Science Fiction|Thriller</td>\n",
       "      <td>6/9/15</td>\n",
       "      <td>5562</td>\n",
       "      <td>6.5</td>\n",
       "      <td>2015</td>\n",
       "      <td>1.379999e+08</td>\n",
       "      <td>1.392446e+09</td>\n",
       "      <td>High</td>\n",
       "    </tr>\n",
       "    <tr>\n",
       "      <th>1</th>\n",
       "      <td>76341</td>\n",
       "      <td>tt1392190</td>\n",
       "      <td>28.419936</td>\n",
       "      <td>150000000</td>\n",
       "      <td>378436354</td>\n",
       "      <td>Mad Max: Fury Road</td>\n",
       "      <td>Tom Hardy|Charlize Theron|Hugh Keays-Byrne|Nic...</td>\n",
       "      <td>George Miller</td>\n",
       "      <td>120</td>\n",
       "      <td>Action|Adventure|Science Fiction|Thriller</td>\n",
       "      <td>5/13/15</td>\n",
       "      <td>6185</td>\n",
       "      <td>7.1</td>\n",
       "      <td>2015</td>\n",
       "      <td>1.379999e+08</td>\n",
       "      <td>3.481613e+08</td>\n",
       "      <td>High</td>\n",
       "    </tr>\n",
       "    <tr>\n",
       "      <th>2</th>\n",
       "      <td>262500</td>\n",
       "      <td>tt2908446</td>\n",
       "      <td>13.112507</td>\n",
       "      <td>110000000</td>\n",
       "      <td>295238201</td>\n",
       "      <td>Insurgent</td>\n",
       "      <td>Shailene Woodley|Theo James|Kate Winslet|Ansel...</td>\n",
       "      <td>Robert Schwentke</td>\n",
       "      <td>119</td>\n",
       "      <td>Adventure|Science Fiction|Thriller</td>\n",
       "      <td>3/18/15</td>\n",
       "      <td>2480</td>\n",
       "      <td>6.3</td>\n",
       "      <td>2015</td>\n",
       "      <td>1.012000e+08</td>\n",
       "      <td>2.716190e+08</td>\n",
       "      <td>High</td>\n",
       "    </tr>\n",
       "    <tr>\n",
       "      <th>3</th>\n",
       "      <td>140607</td>\n",
       "      <td>tt2488496</td>\n",
       "      <td>11.173104</td>\n",
       "      <td>200000000</td>\n",
       "      <td>2068178225</td>\n",
       "      <td>Star Wars: The Force Awakens</td>\n",
       "      <td>Harrison Ford|Mark Hamill|Carrie Fisher|Adam D...</td>\n",
       "      <td>J.J. Abrams</td>\n",
       "      <td>136</td>\n",
       "      <td>Action|Adventure|Science Fiction|Fantasy</td>\n",
       "      <td>12/15/15</td>\n",
       "      <td>5292</td>\n",
       "      <td>7.5</td>\n",
       "      <td>2015</td>\n",
       "      <td>1.839999e+08</td>\n",
       "      <td>1.902723e+09</td>\n",
       "      <td>High</td>\n",
       "    </tr>\n",
       "    <tr>\n",
       "      <th>4</th>\n",
       "      <td>168259</td>\n",
       "      <td>tt2820852</td>\n",
       "      <td>9.335014</td>\n",
       "      <td>190000000</td>\n",
       "      <td>1506249360</td>\n",
       "      <td>Furious 7</td>\n",
       "      <td>Vin Diesel|Paul Walker|Jason Statham|Michelle ...</td>\n",
       "      <td>James Wan</td>\n",
       "      <td>137</td>\n",
       "      <td>Action|Crime|Thriller</td>\n",
       "      <td>4/1/15</td>\n",
       "      <td>2947</td>\n",
       "      <td>7.3</td>\n",
       "      <td>2015</td>\n",
       "      <td>1.747999e+08</td>\n",
       "      <td>1.385749e+09</td>\n",
       "      <td>High</td>\n",
       "    </tr>\n",
       "  </tbody>\n",
       "</table>\n",
       "</div>"
      ],
      "text/plain": [
       "       id    imdb_id  popularity     budget     revenue  \\\n",
       "0  135397  tt0369610   32.985763  150000000  1513528810   \n",
       "1   76341  tt1392190   28.419936  150000000   378436354   \n",
       "2  262500  tt2908446   13.112507  110000000   295238201   \n",
       "3  140607  tt2488496   11.173104  200000000  2068178225   \n",
       "4  168259  tt2820852    9.335014  190000000  1506249360   \n",
       "\n",
       "                 original_title  \\\n",
       "0                Jurassic World   \n",
       "1            Mad Max: Fury Road   \n",
       "2                     Insurgent   \n",
       "3  Star Wars: The Force Awakens   \n",
       "4                     Furious 7   \n",
       "\n",
       "                                                cast          director  \\\n",
       "0  Chris Pratt|Bryce Dallas Howard|Irrfan Khan|Vi...   Colin Trevorrow   \n",
       "1  Tom Hardy|Charlize Theron|Hugh Keays-Byrne|Nic...     George Miller   \n",
       "2  Shailene Woodley|Theo James|Kate Winslet|Ansel...  Robert Schwentke   \n",
       "3  Harrison Ford|Mark Hamill|Carrie Fisher|Adam D...       J.J. Abrams   \n",
       "4  Vin Diesel|Paul Walker|Jason Statham|Michelle ...         James Wan   \n",
       "\n",
       "   runtime                                     genres release_date  \\\n",
       "0      124  Action|Adventure|Science Fiction|Thriller       6/9/15   \n",
       "1      120  Action|Adventure|Science Fiction|Thriller      5/13/15   \n",
       "2      119         Adventure|Science Fiction|Thriller      3/18/15   \n",
       "3      136   Action|Adventure|Science Fiction|Fantasy     12/15/15   \n",
       "4      137                      Action|Crime|Thriller       4/1/15   \n",
       "\n",
       "   vote_count  vote_average  release_year    budget_adj   revenue_adj  \\\n",
       "0        5562           6.5          2015  1.379999e+08  1.392446e+09   \n",
       "1        6185           7.1          2015  1.379999e+08  3.481613e+08   \n",
       "2        2480           6.3          2015  1.012000e+08  2.716190e+08   \n",
       "3        5292           7.5          2015  1.839999e+08  1.902723e+09   \n",
       "4        2947           7.3          2015  1.747999e+08  1.385749e+09   \n",
       "\n",
       "  popularity_levels  \n",
       "0              High  \n",
       "1              High  \n",
       "2              High  \n",
       "3              High  \n",
       "4              High  "
      ]
     },
     "execution_count": 24,
     "metadata": {},
     "output_type": "execute_result"
    }
   ],
   "source": [
    "# Creates popularity_levels column\n",
    "df['popularity_levels'] = pd.cut(df['popularity'], bin_edges, labels=bin_names)\n",
    "\n",
    "# Checks for successful creation of this column\n",
    "df.head()"
   ]
  },
  {
   "cell_type": "code",
   "execution_count": 25,
   "metadata": {},
   "outputs": [
    {
     "data": {
      "text/plain": [
       "popularity_levels\n",
       "Low                5.900810\n",
       "Medium             5.807474\n",
       "Moderately High    5.910125\n",
       "High               6.281156\n",
       "Name: vote_average, dtype: float64"
      ]
     },
     "execution_count": 25,
     "metadata": {},
     "output_type": "execute_result"
    }
   ],
   "source": [
    "#Does a moving rating influenced by it popularity levels?\n",
    "\n",
    "df.groupby(\"popularity_levels\").vote_average.mean()"
   ]
  },
  {
   "cell_type": "markdown",
   "metadata": {},
   "source": []
  },
  {
   "cell_type": "code",
   "execution_count": 28,
   "metadata": {},
   "outputs": [
    {
     "data": {
      "text/plain": [
       "<AxesSubplot:title={'center':'Rating by Movie Popularity_levels'}, xlabel='Popularity_Levels', ylabel='Rating'>"
      ]
     },
     "execution_count": 28,
     "metadata": {},
     "output_type": "execute_result"
    },
    {
     "data": {
      "image/png": "[encoded data removed]",
      "text/plain": [
       "<Figure size 432x288 with 1 Axes>"
      ]
     },
     "metadata": {
      "needs_background": "light"
     },
     "output_type": "display_data"
    }
   ],
   "source": [
    "#What level of popularity receives the highest average rating? Visualization\n",
    "\n",
    "df.groupby(\"popularity_levels\").vote_average.mean().plot(kind=\"bar\", title='Rating by Movie Popularity_levels', ylabel='Rating',\n",
    "         xlabel='Popularity_Levels')"
   ]
  },
  {
   "cell_type": "markdown",
   "metadata": {},
   "source": [
    "Plot to show if rating is depemded on the popularity of the movie"
   ]
  },
  {
   "cell_type": "code",
   "execution_count": 29,
   "metadata": {},
   "outputs": [
    {
     "data": {
      "text/plain": [
       "[Text(0.5, 1.0, 'Relationship between popularity and rating')]"
      ]
     },
     "execution_count": 29,
     "metadata": {},
     "output_type": "execute_result"
    },
    {
     "data": {
      "image/png": "[encoded data removed]",
      "text/plain": [
       "<Figure size 432x288 with 1 Axes>"
      ]
     },
     "metadata": {
      "needs_background": "light"
     },
     "output_type": "display_data"
    }
   ],
   "source": [
    "#Does popularity influence rating\n",
    "#scatterplot\n",
    "\n",
    "sns.scatterplot(x=\"popularity\", y=\"vote_average\", data=df).set(title='Relationship between popularity and rating')"
   ]
  },
  {
   "cell_type": "markdown",
   "metadata": {},
   "source": [
    "##### Although, the correlation between popularity and rating is slightly postive. I observed from the bar-chart that excluding the outliers, the popularity of a movie have little or no influence on how the movie is rated in the industry. "
   ]
  },
  {
   "cell_type": "code",
   "execution_count": null,
   "metadata": {},
   "outputs": [],
   "source": []
  },
  {
   "cell_type": "code",
   "execution_count": null,
   "metadata": {},
   "outputs": [],
   "source": []
  },
  {
   "cell_type": "code",
   "execution_count": null,
   "metadata": {
    "collapsed": true
   },
   "outputs": [],
   "source": [
    "# Continue to explore the data to address your additional research\n",
    "#   questions. Add more headers as needed if you have more questions to\n",
    "#   investigate.\n",
    "\n"
   ]
  },
  {
   "cell_type": "markdown",
   "metadata": {},
   "source": [
    "### Research Question 3: Does a movie popularity level influence its total revenue?)"
   ]
  },
  {
   "cell_type": "code",
   "execution_count": 30,
   "metadata": {},
   "outputs": [],
   "source": [
    "pop_rev = df.groupby(\"popularity_levels\").revenue_adj.mean().to_frame().reset_index()"
   ]
  },
  {
   "cell_type": "code",
   "execution_count": 31,
   "metadata": {},
   "outputs": [
    {
     "data": {
      "text/html": [
       "<div>\n",
       "<style scoped>\n",
       "    .dataframe tbody tr th:only-of-type {\n",
       "        vertical-align: middle;\n",
       "    }\n",
       "\n",
       "    .dataframe tbody tr th {\n",
       "        vertical-align: top;\n",
       "    }\n",
       "\n",
       "    .dataframe thead th {\n",
       "        text-align: right;\n",
       "    }\n",
       "</style>\n",
       "<table border=\"1\" class=\"dataframe\">\n",
       "  <thead>\n",
       "    <tr style=\"text-align: right;\">\n",
       "      <th></th>\n",
       "      <th>popularity_levels</th>\n",
       "      <th>revenue_adj</th>\n",
       "    </tr>\n",
       "  </thead>\n",
       "  <tbody>\n",
       "    <tr>\n",
       "      <th>0</th>\n",
       "      <td>Low</td>\n",
       "      <td>4.500185e+06</td>\n",
       "    </tr>\n",
       "    <tr>\n",
       "      <th>1</th>\n",
       "      <td>Medium</td>\n",
       "      <td>8.923387e+06</td>\n",
       "    </tr>\n",
       "    <tr>\n",
       "      <th>2</th>\n",
       "      <td>Moderately High</td>\n",
       "      <td>2.650891e+07</td>\n",
       "    </tr>\n",
       "    <tr>\n",
       "      <th>3</th>\n",
       "      <td>High</td>\n",
       "      <td>1.655019e+08</td>\n",
       "    </tr>\n",
       "  </tbody>\n",
       "</table>\n",
       "</div>"
      ],
      "text/plain": [
       "  popularity_levels   revenue_adj\n",
       "0               Low  4.500185e+06\n",
       "1            Medium  8.923387e+06\n",
       "2   Moderately High  2.650891e+07\n",
       "3              High  1.655019e+08"
      ]
     },
     "execution_count": 31,
     "metadata": {},
     "output_type": "execute_result"
    }
   ],
   "source": [
    "pop_rev"
   ]
  },
  {
   "cell_type": "markdown",
   "metadata": {},
   "source": [
    "Plot to show the level of a movie popularity with the amount of revenue"
   ]
  },
  {
   "cell_type": "code",
   "execution_count": 32,
   "metadata": {},
   "outputs": [
    {
     "data": {
      "text/plain": [
       "Text(0, 0.5, 'Revenue')"
      ]
     },
     "execution_count": 32,
     "metadata": {},
     "output_type": "execute_result"
    },
    {
     "data": {
      "image/png": "[encoded data removed]",
      "text/plain": [
       "<Figure size 432x288 with 1 Axes>"
      ]
     },
     "metadata": {
      "needs_background": "light"
     },
     "output_type": "display_data"
    }
   ],
   "source": [
    "#What level of popularity receives the highest revenue? Visualization\n",
    "\n",
    "plt.bar(pop_rev[\"popularity_levels\"],pop_rev[\"revenue_adj\"])\n",
    "plt.title('Revenue by Movie Popularity_levels')\n",
    "plt.xlabel('Popularity_Levels')\n",
    "plt.ylabel('Revenue')"
   ]
  },
  {
   "cell_type": "code",
   "execution_count": 33,
   "metadata": {},
   "outputs": [
    {
     "data": {
      "image/png": "[encoded data removed]",
      "text/plain": [
       "<Figure size 432x288 with 1 Axes>"
      ]
     },
     "metadata": {
      "needs_background": "light"
     },
     "output_type": "display_data"
    }
   ],
   "source": [
    "#Does popularity influence revenue\n",
    "#scatterplot\n",
    "\n",
    "sns.scatterplot(x=\"popularity\", y=\"revenue_adj\", data=df);"
   ]
  },
  {
   "cell_type": "markdown",
   "metadata": {},
   "source": [
    "#### A popular movie is most likely going to make high revenue"
   ]
  },
  {
   "cell_type": "code",
   "execution_count": null,
   "metadata": {},
   "outputs": [],
   "source": []
  },
  {
   "cell_type": "markdown",
   "metadata": {},
   "source": [
    "### Research Question 4: What are the top 10 Highest Grossing movie by revenue?)"
   ]
  },
  {
   "cell_type": "code",
   "execution_count": 35,
   "metadata": {},
   "outputs": [],
   "source": [
    "Top_10 = df.sort_values([\"revenue_adj\", \"original_title\"], axis=0, ascending=False).head(10) #sorting_values"
   ]
  },
  {
   "cell_type": "code",
   "execution_count": 36,
   "metadata": {},
   "outputs": [],
   "source": [
    "#grouping and converting to dataframe\n",
    "\n",
    "group_Top_10 = Top_10.loc[:,[\"revenue_adj\",\"original_title\"]].groupby(\"original_title\").revenue_adj.sum().to_frame()\n"
   ]
  },
  {
   "cell_type": "code",
   "execution_count": null,
   "metadata": {},
   "outputs": [],
   "source": []
  },
  {
   "cell_type": "code",
   "execution_count": 39,
   "metadata": {},
   "outputs": [
    {
     "data": {
      "text/plain": [
       "<AxesSubplot:title={'center':'Top_10 highest grossing movies by revenue'}, xlabel='Movie', ylabel='Revenue'>"
      ]
     },
     "execution_count": 39,
     "metadata": {},
     "output_type": "execute_result"
    },
    {
     "data": {
      "image/png": "[encoded data removed]",
      "text/plain": [
       "<Figure size 432x288 with 1 Axes>"
      ]
     },
     "metadata": {
      "needs_background": "light"
     },
     "output_type": "display_data"
    }
   ],
   "source": [
    "#Plot to show the highest grossing movie by revenue\n",
    "\n",
    "\n",
    "group_Top_10.plot(kind=\"bar\", title='Top_10 highest grossing movies by revenue', ylabel='Revenue', xlabel='Movie')"
   ]
  },
  {
   "cell_type": "markdown",
   "metadata": {},
   "source": [
    "#### Avatar and Star wars are the top movies by revenue"
   ]
  },
  {
   "cell_type": "code",
   "execution_count": null,
   "metadata": {},
   "outputs": [],
   "source": []
  },
  {
   "cell_type": "markdown",
   "metadata": {},
   "source": [
    "### Research Question 5: What kinds of properties are associated with movies that have high revenues?)"
   ]
  },
  {
   "cell_type": "code",
   "execution_count": 40,
   "metadata": {},
   "outputs": [
    {
     "data": {
      "text/html": [
       "<div>\n",
       "<style scoped>\n",
       "    .dataframe tbody tr th:only-of-type {\n",
       "        vertical-align: middle;\n",
       "    }\n",
       "\n",
       "    .dataframe tbody tr th {\n",
       "        vertical-align: top;\n",
       "    }\n",
       "\n",
       "    .dataframe thead th {\n",
       "        text-align: right;\n",
       "    }\n",
       "</style>\n",
       "<table border=\"1\" class=\"dataframe\">\n",
       "  <thead>\n",
       "    <tr style=\"text-align: right;\">\n",
       "      <th></th>\n",
       "      <th>id</th>\n",
       "      <th>popularity</th>\n",
       "      <th>budget</th>\n",
       "      <th>revenue</th>\n",
       "      <th>runtime</th>\n",
       "      <th>vote_count</th>\n",
       "      <th>vote_average</th>\n",
       "      <th>release_year</th>\n",
       "      <th>budget_adj</th>\n",
       "      <th>revenue_adj</th>\n",
       "    </tr>\n",
       "  </thead>\n",
       "  <tbody>\n",
       "    <tr>\n",
       "      <th>count</th>\n",
       "      <td>10.000000</td>\n",
       "      <td>10.000000</td>\n",
       "      <td>1.000000e+01</td>\n",
       "      <td>1.000000e+01</td>\n",
       "      <td>10.000000</td>\n",
       "      <td>10.000000</td>\n",
       "      <td>10.000000</td>\n",
       "      <td>10.000000</td>\n",
       "      <td>1.000000e+01</td>\n",
       "      <td>1.000000e+01</td>\n",
       "    </tr>\n",
       "    <tr>\n",
       "      <th>mean</th>\n",
       "      <td>21024.100000</td>\n",
       "      <td>5.587987</td>\n",
       "      <td>9.195000e+07</td>\n",
       "      <td>1.201670e+09</td>\n",
       "      <td>131.000000</td>\n",
       "      <td>3720.700000</td>\n",
       "      <td>7.100000</td>\n",
       "      <td>1989.600000</td>\n",
       "      <td>1.097137e+08</td>\n",
       "      <td>2.049305e+09</td>\n",
       "    </tr>\n",
       "    <tr>\n",
       "      <th>std</th>\n",
       "      <td>42935.726425</td>\n",
       "      <td>4.096341</td>\n",
       "      <td>1.058643e+08</td>\n",
       "      <td>8.302542e+08</td>\n",
       "      <td>30.872498</td>\n",
       "      <td>3146.446251</td>\n",
       "      <td>0.618241</td>\n",
       "      <td>18.649993</td>\n",
       "      <td>1.029052e+08</td>\n",
       "      <td>5.048742e+08</td>\n",
       "    </tr>\n",
       "    <tr>\n",
       "      <th>min</th>\n",
       "      <td>11.000000</td>\n",
       "      <td>1.136610</td>\n",
       "      <td>4.000000e+06</td>\n",
       "      <td>2.158800e+08</td>\n",
       "      <td>79.000000</td>\n",
       "      <td>201.000000</td>\n",
       "      <td>5.600000</td>\n",
       "      <td>1961.000000</td>\n",
       "      <td>2.372625e+07</td>\n",
       "      <td>1.443191e+09</td>\n",
       "    </tr>\n",
       "    <tr>\n",
       "      <th>25%</th>\n",
       "      <td>598.000000</td>\n",
       "      <td>2.580390</td>\n",
       "      <td>8.625000e+06</td>\n",
       "      <td>5.468400e+08</td>\n",
       "      <td>116.500000</td>\n",
       "      <td>1188.500000</td>\n",
       "      <td>7.125000</td>\n",
       "      <td>1975.500000</td>\n",
       "      <td>2.975490e+07</td>\n",
       "      <td>1.635211e+09</td>\n",
       "    </tr>\n",
       "    <tr>\n",
       "      <th>50%</th>\n",
       "      <td>5597.000000</td>\n",
       "      <td>3.627887</td>\n",
       "      <td>1.650000e+07</td>\n",
       "      <td>9.495951e+08</td>\n",
       "      <td>123.000000</td>\n",
       "      <td>3129.000000</td>\n",
       "      <td>7.250000</td>\n",
       "      <td>1988.500000</td>\n",
       "      <td>3.943243e+07</td>\n",
       "      <td>1.904864e+09</td>\n",
       "    </tr>\n",
       "    <tr>\n",
       "      <th>75%</th>\n",
       "      <td>18053.750000</td>\n",
       "      <td>8.984018</td>\n",
       "      <td>2.000000e+08</td>\n",
       "      <td>1.763665e+09</td>\n",
       "      <td>141.250000</td>\n",
       "      <td>5132.500000</td>\n",
       "      <td>7.300000</td>\n",
       "      <td>2006.000000</td>\n",
       "      <td>2.027078e+08</td>\n",
       "      <td>2.421636e+09</td>\n",
       "    </tr>\n",
       "    <tr>\n",
       "      <th>max</th>\n",
       "      <td>140607.000000</td>\n",
       "      <td>12.037933</td>\n",
       "      <td>2.370000e+08</td>\n",
       "      <td>2.781506e+09</td>\n",
       "      <td>194.000000</td>\n",
       "      <td>8903.000000</td>\n",
       "      <td>7.900000</td>\n",
       "      <td>2015.000000</td>\n",
       "      <td>2.716921e+08</td>\n",
       "      <td>2.827124e+09</td>\n",
       "    </tr>\n",
       "  </tbody>\n",
       "</table>\n",
       "</div>"
      ],
      "text/plain": [
       "                  id  popularity        budget       revenue     runtime  \\\n",
       "count      10.000000   10.000000  1.000000e+01  1.000000e+01   10.000000   \n",
       "mean    21024.100000    5.587987  9.195000e+07  1.201670e+09  131.000000   \n",
       "std     42935.726425    4.096341  1.058643e+08  8.302542e+08   30.872498   \n",
       "min        11.000000    1.136610  4.000000e+06  2.158800e+08   79.000000   \n",
       "25%       598.000000    2.580390  8.625000e+06  5.468400e+08  116.500000   \n",
       "50%      5597.000000    3.627887  1.650000e+07  9.495951e+08  123.000000   \n",
       "75%     18053.750000    8.984018  2.000000e+08  1.763665e+09  141.250000   \n",
       "max    140607.000000   12.037933  2.370000e+08  2.781506e+09  194.000000   \n",
       "\n",
       "        vote_count  vote_average  release_year    budget_adj   revenue_adj  \n",
       "count    10.000000     10.000000     10.000000  1.000000e+01  1.000000e+01  \n",
       "mean   3720.700000      7.100000   1989.600000  1.097137e+08  2.049305e+09  \n",
       "std    3146.446251      0.618241     18.649993  1.029052e+08  5.048742e+08  \n",
       "min     201.000000      5.600000   1961.000000  2.372625e+07  1.443191e+09  \n",
       "25%    1188.500000      7.125000   1975.500000  2.975490e+07  1.635211e+09  \n",
       "50%    3129.000000      7.250000   1988.500000  3.943243e+07  1.904864e+09  \n",
       "75%    5132.500000      7.300000   2006.000000  2.027078e+08  2.421636e+09  \n",
       "max    8903.000000      7.900000   2015.000000  2.716921e+08  2.827124e+09  "
      ]
     },
     "execution_count": 40,
     "metadata": {},
     "output_type": "execute_result"
    }
   ],
   "source": [
    "Top_10.describe()"
   ]
  },
  {
   "cell_type": "code",
   "execution_count": null,
   "metadata": {},
   "outputs": [],
   "source": []
  },
  {
   "cell_type": "markdown",
   "metadata": {},
   "source": [
    "### Research Question 6: Who are the Top_10 Director with the highest revenue?)"
   ]
  },
  {
   "cell_type": "code",
   "execution_count": 41,
   "metadata": {},
   "outputs": [
    {
     "data": {
      "text/plain": [
       "director\n",
       "Steven Spielberg    1.520245e+10\n",
       "James Cameron       7.327221e+09\n",
       "Peter Jackson       7.019848e+09\n",
       "George Lucas        6.313919e+09\n",
       "Robert Zemeckis     5.655648e+09\n",
       "Michael Bay         5.460672e+09\n",
       "Chris Columbus      5.094077e+09\n",
       "Tim Burton          4.529285e+09\n",
       "Ron Howard          4.527095e+09\n",
       "Ridley Scott        4.219566e+09\n",
       "Name: revenue_adj, dtype: float64"
      ]
     },
     "execution_count": 41,
     "metadata": {},
     "output_type": "execute_result"
    }
   ],
   "source": [
    "df_top10_rev_director = df.groupby(['director'])['revenue_adj'].sum().sort_values(ascending=False).head(10)\n",
    "\n",
    "df_top10_rev_director"
   ]
  },
  {
   "cell_type": "markdown",
   "metadata": {},
   "source": [
    "Plot to show the top 10 directors by revenue"
   ]
  },
  {
   "cell_type": "code",
   "execution_count": 42,
   "metadata": {},
   "outputs": [
    {
     "data": {
      "text/plain": [
       "<AxesSubplot:title={'center':'Top_10 directors by revenue'}, xlabel='Director', ylabel='Revenue_adj'>"
      ]
     },
     "execution_count": 42,
     "metadata": {},
     "output_type": "execute_result"
    },
    {
     "data": {
      "image/png": "[encoded data removed]",
      "text/plain": [
       "<Figure size 432x288 with 1 Axes>"
      ]
     },
     "metadata": {
      "needs_background": "light"
     },
     "output_type": "display_data"
    }
   ],
   "source": [
    "#Visualizing Top_10 Director with the highest revenue \n",
    "\n",
    "df_top10_rev_director.to_frame().plot(kind=\"bar\", title='Top_10 directors by revenue', ylabel='Revenue_adj', xlabel='Director')"
   ]
  },
  {
   "cell_type": "markdown",
   "metadata": {},
   "source": [
    "#### Steven Spielberg movies  seems to yield more revenue than those of other directors"
   ]
  },
  {
   "cell_type": "markdown",
   "metadata": {},
   "source": [
    "### Research Question 7: Who are the Top_10 Director with the highest popularity?)"
   ]
  },
  {
   "cell_type": "code",
   "execution_count": 44,
   "metadata": {},
   "outputs": [],
   "source": [
    "df_top10_popular_director = df.groupby(['director'])['popularity'].sum().sort_values(ascending=False).head(10) #grouping\n"
   ]
  },
  {
   "cell_type": "code",
   "execution_count": 45,
   "metadata": {},
   "outputs": [
    {
     "data": {
      "text/html": [
       "<div>\n",
       "<style scoped>\n",
       "    .dataframe tbody tr th:only-of-type {\n",
       "        vertical-align: middle;\n",
       "    }\n",
       "\n",
       "    .dataframe tbody tr th {\n",
       "        vertical-align: top;\n",
       "    }\n",
       "\n",
       "    .dataframe thead th {\n",
       "        text-align: right;\n",
       "    }\n",
       "</style>\n",
       "<table border=\"1\" class=\"dataframe\">\n",
       "  <thead>\n",
       "    <tr style=\"text-align: right;\">\n",
       "      <th></th>\n",
       "      <th>director</th>\n",
       "      <th>popularity</th>\n",
       "    </tr>\n",
       "  </thead>\n",
       "  <tbody>\n",
       "    <tr>\n",
       "      <th>0</th>\n",
       "      <td>Christopher Nolan</td>\n",
       "      <td>61.955206</td>\n",
       "    </tr>\n",
       "    <tr>\n",
       "      <th>1</th>\n",
       "      <td>Steven Spielberg</td>\n",
       "      <td>54.378995</td>\n",
       "    </tr>\n",
       "    <tr>\n",
       "      <th>2</th>\n",
       "      <td>Peter Jackson</td>\n",
       "      <td>49.067904</td>\n",
       "    </tr>\n",
       "    <tr>\n",
       "      <th>3</th>\n",
       "      <td>Ridley Scott</td>\n",
       "      <td>46.213770</td>\n",
       "    </tr>\n",
       "    <tr>\n",
       "      <th>4</th>\n",
       "      <td>Quentin Tarantino</td>\n",
       "      <td>46.059995</td>\n",
       "    </tr>\n",
       "    <tr>\n",
       "      <th>5</th>\n",
       "      <td>George Miller</td>\n",
       "      <td>35.600006</td>\n",
       "    </tr>\n",
       "    <tr>\n",
       "      <th>6</th>\n",
       "      <td>Tim Burton</td>\n",
       "      <td>34.648225</td>\n",
       "    </tr>\n",
       "    <tr>\n",
       "      <th>7</th>\n",
       "      <td>David Fincher</td>\n",
       "      <td>34.479784</td>\n",
       "    </tr>\n",
       "    <tr>\n",
       "      <th>8</th>\n",
       "      <td>Robert Zemeckis</td>\n",
       "      <td>33.619667</td>\n",
       "    </tr>\n",
       "    <tr>\n",
       "      <th>9</th>\n",
       "      <td>Colin Trevorrow</td>\n",
       "      <td>33.393773</td>\n",
       "    </tr>\n",
       "  </tbody>\n",
       "</table>\n",
       "</div>"
      ],
      "text/plain": [
       "            director  popularity\n",
       "0  Christopher Nolan   61.955206\n",
       "1   Steven Spielberg   54.378995\n",
       "2      Peter Jackson   49.067904\n",
       "3       Ridley Scott   46.213770\n",
       "4  Quentin Tarantino   46.059995\n",
       "5      George Miller   35.600006\n",
       "6         Tim Burton   34.648225\n",
       "7      David Fincher   34.479784\n",
       "8    Robert Zemeckis   33.619667\n",
       "9    Colin Trevorrow   33.393773"
      ]
     },
     "execution_count": 45,
     "metadata": {},
     "output_type": "execute_result"
    }
   ],
   "source": [
    "df_top10_popular_director.to_frame(name=\"popularity\").reset_index() #converting to dataframe"
   ]
  },
  {
   "cell_type": "markdown",
   "metadata": {},
   "source": [
    "Plot to show the top 10 directors by revenue"
   ]
  },
  {
   "cell_type": "code",
   "execution_count": 48,
   "metadata": {},
   "outputs": [
    {
     "data": {
      "text/plain": [
       "<AxesSubplot:title={'center':'Top_10 directors by popularity'}, xlabel='Directors', ylabel='Popularity'>"
      ]
     },
     "execution_count": 48,
     "metadata": {},
     "output_type": "execute_result"
    },
    {
     "data": {
      "image/png": "[encoded data removed]",
      "text/plain": [
       "<Figure size 432x288 with 1 Axes>"
      ]
     },
     "metadata": {
      "needs_background": "light"
     },
     "output_type": "display_data"
    }
   ],
   "source": [
    "#Visualizing the Top_10 Director with the highest popularity\n",
    "\n",
    "df_top10_popular_director.to_frame().plot(kind=\"bar\",title='Top_10 directors by popularity', ylabel='Popularity', xlabel='Directors')"
   ]
  },
  {
   "cell_type": "markdown",
   "metadata": {},
   "source": [
    "#### Christopher Nolan movies seems to be more popular than others"
   ]
  },
  {
   "cell_type": "markdown",
   "metadata": {},
   "source": [
    "### Research Question 8: Which year has the highest Revenue?)"
   ]
  },
  {
   "cell_type": "code",
   "execution_count": 49,
   "metadata": {},
   "outputs": [],
   "source": [
    "df_year_rev = df.groupby('release_year')['revenue'].sum().to_frame(name=\"revenue\").reset_index() #grouping and formating to table\n"
   ]
  },
  {
   "cell_type": "code",
   "execution_count": 50,
   "metadata": {},
   "outputs": [
    {
     "data": {
      "text/html": [
       "<div>\n",
       "<style scoped>\n",
       "    .dataframe tbody tr th:only-of-type {\n",
       "        vertical-align: middle;\n",
       "    }\n",
       "\n",
       "    .dataframe tbody tr th {\n",
       "        vertical-align: top;\n",
       "    }\n",
       "\n",
       "    .dataframe thead th {\n",
       "        text-align: right;\n",
       "    }\n",
       "</style>\n",
       "<table border=\"1\" class=\"dataframe\">\n",
       "  <thead>\n",
       "    <tr style=\"text-align: right;\">\n",
       "      <th></th>\n",
       "      <th>release_year</th>\n",
       "      <th>revenue</th>\n",
       "    </tr>\n",
       "  </thead>\n",
       "  <tbody>\n",
       "    <tr>\n",
       "      <th>55</th>\n",
       "      <td>2015</td>\n",
       "      <td>26762450518</td>\n",
       "    </tr>\n",
       "    <tr>\n",
       "      <th>53</th>\n",
       "      <td>2013</td>\n",
       "      <td>24703633017</td>\n",
       "    </tr>\n",
       "    <tr>\n",
       "      <th>52</th>\n",
       "      <td>2012</td>\n",
       "      <td>24668428824</td>\n",
       "    </tr>\n",
       "    <tr>\n",
       "      <th>54</th>\n",
       "      <td>2014</td>\n",
       "      <td>24331150183</td>\n",
       "    </tr>\n",
       "    <tr>\n",
       "      <th>51</th>\n",
       "      <td>2011</td>\n",
       "      <td>23695591578</td>\n",
       "    </tr>\n",
       "    <tr>\n",
       "      <th>49</th>\n",
       "      <td>2009</td>\n",
       "      <td>22180170559</td>\n",
       "    </tr>\n",
       "    <tr>\n",
       "      <th>50</th>\n",
       "      <td>2010</td>\n",
       "      <td>21959998545</td>\n",
       "    </tr>\n",
       "    <tr>\n",
       "      <th>48</th>\n",
       "      <td>2008</td>\n",
       "      <td>19431695138</td>\n",
       "    </tr>\n",
       "    <tr>\n",
       "      <th>47</th>\n",
       "      <td>2007</td>\n",
       "      <td>19411668670</td>\n",
       "    </tr>\n",
       "    <tr>\n",
       "      <th>44</th>\n",
       "      <td>2004</td>\n",
       "      <td>16793822618</td>\n",
       "    </tr>\n",
       "  </tbody>\n",
       "</table>\n",
       "</div>"
      ],
      "text/plain": [
       "    release_year      revenue\n",
       "55          2015  26762450518\n",
       "53          2013  24703633017\n",
       "52          2012  24668428824\n",
       "54          2014  24331150183\n",
       "51          2011  23695591578\n",
       "49          2009  22180170559\n",
       "50          2010  21959998545\n",
       "48          2008  19431695138\n",
       "47          2007  19411668670\n",
       "44          2004  16793822618"
      ]
     },
     "execution_count": 50,
     "metadata": {},
     "output_type": "execute_result"
    }
   ],
   "source": [
    "#Table showing the year with the highes movie revenue\n",
    "\n",
    "Top_10_year = df_year_rev.sort_values(by = 'revenue', ascending = False).head(10)\n",
    "Top_10_year"
   ]
  },
  {
   "cell_type": "markdown",
   "metadata": {},
   "source": [
    "The below plot shows the trend of movies revenue by year"
   ]
  },
  {
   "cell_type": "code",
   "execution_count": 53,
   "metadata": {},
   "outputs": [
    {
     "data": {
      "text/plain": [
       "[Text(0.5, 1.0, 'Revenue trend of movies by year')]"
      ]
     },
     "execution_count": 53,
     "metadata": {},
     "output_type": "execute_result"
    },
    {
     "data": {
      "image/png": "[encoded data removed]",
      "text/plain": [
       "<Figure size 432x288 with 1 Axes>"
      ]
     },
     "metadata": {
      "needs_background": "light"
     },
     "output_type": "display_data"
    }
   ],
   "source": [
    "#Plot to show mive trends by revenue\n",
    "\n",
    "sns.lineplot(x=\"release_year\", y=\"revenue\", data=Top_10_year).set(title='Revenue trend of movies by year')"
   ]
  },
  {
   "cell_type": "code",
   "execution_count": null,
   "metadata": {},
   "outputs": [],
   "source": []
  },
  {
   "cell_type": "code",
   "execution_count": null,
   "metadata": {},
   "outputs": [],
   "source": []
  },
  {
   "cell_type": "markdown",
   "metadata": {},
   "source": [
    "<a id='conclusions'></a>\n",
    "## Conclusions\n",
    "\n",
    "> **1**: from the above scatter plot and correlation table, the correlation between budget and revenue_adj, budget and revenue_adj is positive. It could be inferred that a high budget movie will likely bring in more revenue. Investors in the movie industry may likely want to budget a higher figure if they want increase revenue\n",
    "\n",
    "> **2**: Although, the correlation between popularity and rating is slightly positive. I observed from the bar-chart that excluding the outliers, the popularity of a movie has little or no influence on how the movie is rated in the industry.\n",
    "\n",
    "> **3**: A popular movie is most likely going to make high revenue\n",
    "> **4**: A popular movie is most likely going to make high revenue\n",
    "> **5**: Steven Spielberg movies are seeming to yield more revenue than those of other directors\n",
    "> **6**: Christopher Nolan movies seems to be more popular than others\n",
    "\n",
    "### Limitations\n",
    "> **1**: The final cost of making a movie was not given\n",
    "\n",
    "> **2**: Social meedia comments or ratings were not given\n",
    "\n",
    "> **3**: Details of the rating column was not given\n",
    "\n"
   ]
  },
  {
   "cell_type": "markdown",
   "metadata": {},
   "source": [
    "### References\n",
    "\n",
    "\n",
    "> **1**: https://www.geeksforgeeks.org/pandas-cut-method-in-python/\n",
    "\n",
    "> **2**: https://www.kaggle.com/datasets/tmdb/tmdb-movie-metadata\n",
    "\n",
    "> **3**: https://www.statology.org/pandas-groupby-bar-plot/\n",
    "\n",
    "> **4**: https://www.geeksforgeeks.org/python-pandas-dataframe-sort_values-set-1/\n",
    "\n",
    "> **5**: https://realpython.com/pandas-sort-python/\n",
    "\n",
    "> **6**: https://stackoverflow.com/questions/39581893/pandas-find-percentile-stats-of-a-given-column\n",
    "\n",
    "> **7**: https://www.sfu.ca/~mjbrydon/tutorials/BAinPy/03_visualization.html\n",
    "\n",
    "> **8**: https://www.statology.org/pandas-split-column/\n",
    "\n",
    "> **9**: https://sparkbyexamples.com/pandas/pandas-groupby-sort-within-groups/\n",
    "\n",
    "> **10**: https://www.statology.org/pandas-groupby-correlation/\n",
    "\n",
    "> **11**: https://www.easytweaks.com/pandas-groupby-to-dataframe/\n"
   ]
  },
  {
   "cell_type": "code",
   "execution_count": null,
   "metadata": {},
   "outputs": [],
   "source": []
  }
 ],
 "metadata": {
  "kernelspec": {
   "display_name": "Python 3 (ipykernel)",
   "language": "python",
   "name": "python3"
  },
  "language_info": {
   "codemirror_mode": {
    "name": "ipython",
    "version": 3
   },
   "file_extension": ".py",
   "mimetype": "text/x-python",
   "name": "python",
   "nbconvert_exporter": "python",
   "pygments_lexer": "ipython3",
   "version": "3.10.4"
  }
 },
 "nbformat": 4,
 "nbformat_minor": 2
}
